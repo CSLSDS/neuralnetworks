{
  "nbformat": 4,
  "nbformat_minor": 0,
  "metadata": {
    "colab": {
      "name": "LS_DS_423_Keras_Assignment.ipynb",
      "provenance": [],
      "include_colab_link": true
    },
    "kernelspec": {
      "name": "python3",
      "display_name": "Python 3"
    },
    "language_info": {
      "codemirror_mode": {
        "name": "ipython",
        "version": 3
      },
      "file_extension": ".py",
      "mimetype": "text/x-python",
      "name": "python",
      "nbconvert_exporter": "python",
      "pygments_lexer": "ipython3",
      "version": "3.7.3"
    },
    "accelerator": "GPU"
  },
  "cells": [
    {
      "cell_type": "markdown",
      "metadata": {
        "id": "view-in-github",
        "colab_type": "text"
      },
      "source": [
        "<a href=\"https://colab.research.google.com/github/arewelearningyet/neuralnetworks/blob/master/module3-Intro-to-Keras/LS_DS_423_Keras_Assignment.ipynb\" target=\"_parent\"><img src=\"https://colab.research.google.com/assets/colab-badge.svg\" alt=\"Open In Colab\"/></a>"
      ]
    },
    {
      "cell_type": "markdown",
      "metadata": {
        "colab_type": "text",
        "id": "pBQsZEJmubLs"
      },
      "source": [
        "<img align=\"left\" src=\"https://lever-client-logos.s3.amazonaws.com/864372b1-534c-480e-acd5-9711f850815c-1524247202159.png\" width=200>\n",
        "<br></br>\n",
        "\n",
        "# Neural Network Framework (Keras)\n",
        "\n",
        "## *Data Science Unit 4 Sprint 2 Assignment 3*\n",
        "\n",
        "## Use the Keras Library to build a Multi-Layer Perceptron Model on the Boston Housing dataset\n",
        "\n",
        "- The Boston Housing dataset comes with the Keras library so use Keras to import it into your notebook. \n",
        "- Normalize the data (all features should have roughly the same scale)\n",
        "- Import the type of model and layers that you will need from Keras.\n",
        "- Instantiate a model object and use `model.add()` to add layers to your model\n",
        "- Since this is a regression model you will have a single output node in the final layer.\n",
        "- Use activation functions that are appropriate for this task\n",
        "- Compile your model\n",
        "- Fit your model and report its accuracy in terms of Mean Squared Error\n",
        "- Use the history object that is returned from model.fit to make graphs of the model's loss or train/validation accuracies by epoch. \n",
        "- Run this same data through a linear regression model. Which achieves higher accuracy?\n",
        "- Do a little bit of feature engineering and see how that affects your neural network model. (you will need to change your model to accept more inputs)\n",
        "- After feature engineering, which model sees a greater accuracy boost due to the new features?"
      ]
    },
    {
      "cell_type": "code",
      "metadata": {
        "colab_type": "code",
        "id": "8NLTAR87uYJ-",
        "colab": {
          "base_uri": "https://localhost:8080/",
          "height": 50
        },
        "outputId": "2160ffaf-3585-4b71-8009-7723f03cf2f8"
      },
      "source": [
        "'''IMPORT boston_housing from KERAS lib '''\n",
        "\n",
        "from tensorflow.keras.datasets import boston_housing\n",
        "\n",
        "(xtrain, ytrain), (xtest, ytest) = boston_housing.load_data()"
      ],
      "execution_count": 2,
      "outputs": [
        {
          "output_type": "stream",
          "text": [
            "Downloading data from https://storage.googleapis.com/tensorflow/tf-keras-datasets/boston_housing.npz\n",
            "57344/57026 [==============================] - 0s 0us/step\n"
          ],
          "name": "stdout"
        }
      ]
    },
    {
      "cell_type": "code",
      "metadata": {
        "id": "w51TPQAeJeG0",
        "colab_type": "code",
        "colab": {}
      },
      "source": [
        "''' NORMALIZE the data [all feats roughly same scale] '''\n",
        "\n",
        "import sklearn.preprocessing\n",
        "\n",
        "normalizer = sklearn.preprocessing.Normalizer()\n",
        "normalizer.fit(xtrain)\n",
        "\n",
        "xtrain = normalizer.transform(xtrain)\n",
        "xtest = normalizer.transform(xtest)"
      ],
      "execution_count": 0,
      "outputs": []
    },
    {
      "cell_type": "code",
      "metadata": {
        "id": "Lnp34BxWJtwZ",
        "colab_type": "code",
        "colab": {
          "base_uri": "https://localhost:8080/",
          "height": 33
        },
        "outputId": "9f1a7afb-f6a5-4eca-cce3-b29d6fafa83c"
      },
      "source": [
        "xtrain.shape, ytrain.shape, xtest.shape, ytest.shape"
      ],
      "execution_count": 4,
      "outputs": [
        {
          "output_type": "execute_result",
          "data": {
            "text/plain": [
              "((404, 13), (404,), (102, 13), (102,))"
            ]
          },
          "metadata": {
            "tags": []
          },
          "execution_count": 4
        }
      ]
    },
    {
      "cell_type": "code",
      "metadata": {
        "id": "nL13TcFJJ4Di",
        "colab_type": "code",
        "colab": {}
      },
      "source": [
        "''' IMPORT the type of MODEL and LAYERS that you will need from KERAS '''\n",
        "\n",
        "import tensorflow as tf"
      ],
      "execution_count": 0,
      "outputs": []
    },
    {
      "cell_type": "code",
      "metadata": {
        "id": "t9gXdt4iKXPb",
        "colab_type": "code",
        "colab": {
          "base_uri": "https://localhost:8080/",
          "height": 33
        },
        "outputId": "f20abb9e-a569-4c61-a93c-499d3869414a"
      },
      "source": [
        "''' INSTANTIATE a MODEL OBJECT and use model.add() to add layers to your model '''\n",
        "\n",
        "model = tf.keras.models.Sequential()\n",
        "\n",
        "model.add(tf.keras.layers.Flatten(input_shape=(13,)))\n",
        "model.add(tf.keras.layers.Dense(32, activation='selu'))\n",
        "model.add(tf.keras.layers.Dense(32, activation='selu'))\n",
        "model.add(tf.keras.layers.Dense(32, activation='selu'))\n",
        "model.add(tf.keras.layers.Dense(32, activation='selu'))\n",
        "model.add(tf.keras.layers.Dense(64, activation='selu'))\n",
        "\n",
        "''' since this is a regrsn model, has a single output node in the final layer '''\n",
        "\n",
        "tf.keras.layers.Dense(1, activation='selu') \n",
        "\n",
        "''' use activation functions that are appropriate for this task '''"
      ],
      "execution_count": 6,
      "outputs": [
        {
          "output_type": "execute_result",
          "data": {
            "text/plain": [
              "' use activation functions that are appropriate for this task '"
            ]
          },
          "metadata": {
            "tags": []
          },
          "execution_count": 6
        }
      ]
    },
    {
      "cell_type": "code",
      "metadata": {
        "id": "TjaIgQ0tLPQj",
        "colab_type": "code",
        "colab": {}
      },
      "source": [
        "''' compile your model '''\n",
        "model.compile(loss='mse', optimizer='nadam', metrics=['mse'])"
      ],
      "execution_count": 0,
      "outputs": []
    },
    {
      "cell_type": "code",
      "metadata": {
        "id": "-QkmKyJqLY1_",
        "colab_type": "code",
        "colab": {
          "base_uri": "https://localhost:8080/",
          "height": 1000
        },
        "outputId": "d028c586-b1f7-4c4f-d44c-769bffdc432c"
      },
      "source": [
        "''' fit your model and report it's accuracy in terms of mean squared error '''\n",
        "\n",
        "model.fit(xtrain, ytrain, epochs=200, validation_data=(xtest, ytest))"
      ],
      "execution_count": 8,
      "outputs": [
        {
          "output_type": "stream",
          "text": [
            "Epoch 1/200\n",
            "13/13 [==============================] - 0s 17ms/step - loss: 577.8455 - mse: 581.5352 - val_loss: 679.9955 - val_mse: 596.7523\n",
            "Epoch 2/200\n",
            "13/13 [==============================] - 0s 5ms/step - loss: 544.7448 - mse: 545.1611 - val_loss: 611.2643 - val_mse: 532.6915\n",
            "Epoch 3/200\n",
            "13/13 [==============================] - 0s 6ms/step - loss: 449.2828 - mse: 447.4741 - val_loss: 440.2330 - val_mse: 375.1362\n",
            "Epoch 4/200\n",
            "13/13 [==============================] - 0s 5ms/step - loss: 258.7245 - mse: 263.0925 - val_loss: 209.8606 - val_mse: 172.0582\n",
            "Epoch 5/200\n",
            "13/13 [==============================] - 0s 6ms/step - loss: 127.7732 - mse: 125.5243 - val_loss: 119.5266 - val_mse: 102.7316\n",
            "Epoch 6/200\n",
            "13/13 [==============================] - 0s 5ms/step - loss: 94.2865 - mse: 93.5150 - val_loss: 100.6952 - val_mse: 84.7427\n",
            "Epoch 7/200\n",
            "13/13 [==============================] - 0s 6ms/step - loss: 83.3908 - mse: 81.8064 - val_loss: 92.4036 - val_mse: 78.0416\n",
            "Epoch 8/200\n",
            "13/13 [==============================] - 0s 5ms/step - loss: 77.8625 - mse: 77.4798 - val_loss: 93.6880 - val_mse: 76.1829\n",
            "Epoch 9/200\n",
            "13/13 [==============================] - 0s 5ms/step - loss: 76.8540 - mse: 75.2541 - val_loss: 89.7823 - val_mse: 73.2478\n",
            "Epoch 10/200\n",
            "13/13 [==============================] - 0s 5ms/step - loss: 72.8328 - mse: 73.3408 - val_loss: 91.4815 - val_mse: 72.7012\n",
            "Epoch 11/200\n",
            "13/13 [==============================] - 0s 5ms/step - loss: 71.9277 - mse: 71.2997 - val_loss: 83.4244 - val_mse: 68.4185\n",
            "Epoch 12/200\n",
            "13/13 [==============================] - 0s 6ms/step - loss: 69.0170 - mse: 69.6354 - val_loss: 81.8003 - val_mse: 66.2709\n",
            "Epoch 13/200\n",
            "13/13 [==============================] - 0s 5ms/step - loss: 66.5113 - mse: 67.8546 - val_loss: 82.3009 - val_mse: 64.7731\n",
            "Epoch 14/200\n",
            "13/13 [==============================] - 0s 6ms/step - loss: 67.2157 - mse: 66.4283 - val_loss: 80.3878 - val_mse: 62.7938\n",
            "Epoch 15/200\n",
            "13/13 [==============================] - 0s 6ms/step - loss: 65.5236 - mse: 64.4715 - val_loss: 75.5711 - val_mse: 60.9547\n",
            "Epoch 16/200\n",
            "13/13 [==============================] - 0s 6ms/step - loss: 65.2079 - mse: 64.0317 - val_loss: 75.9368 - val_mse: 59.7040\n",
            "Epoch 17/200\n",
            "13/13 [==============================] - 0s 5ms/step - loss: 62.4248 - mse: 63.1054 - val_loss: 76.2489 - val_mse: 58.9591\n",
            "Epoch 18/200\n",
            "13/13 [==============================] - 0s 5ms/step - loss: 61.4036 - mse: 62.6442 - val_loss: 79.7317 - val_mse: 59.5971\n",
            "Epoch 19/200\n",
            "13/13 [==============================] - 0s 6ms/step - loss: 61.1266 - mse: 61.7170 - val_loss: 74.5000 - val_mse: 57.7785\n",
            "Epoch 20/200\n",
            "13/13 [==============================] - 0s 5ms/step - loss: 61.0506 - mse: 61.5977 - val_loss: 78.2984 - val_mse: 58.4595\n",
            "Epoch 21/200\n",
            "13/13 [==============================] - 0s 6ms/step - loss: 60.3245 - mse: 61.0046 - val_loss: 76.1081 - val_mse: 57.4237\n",
            "Epoch 22/200\n",
            "13/13 [==============================] - 0s 5ms/step - loss: 59.8560 - mse: 60.8188 - val_loss: 77.7253 - val_mse: 57.7138\n",
            "Epoch 23/200\n",
            "13/13 [==============================] - 0s 5ms/step - loss: 59.9973 - mse: 60.1903 - val_loss: 73.3810 - val_mse: 56.5441\n",
            "Epoch 24/200\n",
            "13/13 [==============================] - 0s 6ms/step - loss: 61.6397 - mse: 59.9553 - val_loss: 75.1644 - val_mse: 56.4930\n",
            "Epoch 25/200\n",
            "13/13 [==============================] - 0s 6ms/step - loss: 58.3719 - mse: 59.5398 - val_loss: 76.4155 - val_mse: 56.6404\n",
            "Epoch 26/200\n",
            "13/13 [==============================] - 0s 5ms/step - loss: 58.2383 - mse: 59.0277 - val_loss: 77.0414 - val_mse: 56.6623\n",
            "Epoch 27/200\n",
            "13/13 [==============================] - 0s 5ms/step - loss: 59.2064 - mse: 59.3774 - val_loss: 75.4869 - val_mse: 56.0175\n",
            "Epoch 28/200\n",
            "13/13 [==============================] - 0s 5ms/step - loss: 60.0933 - mse: 58.3302 - val_loss: 72.5865 - val_mse: 55.5102\n",
            "Epoch 29/200\n",
            "13/13 [==============================] - 0s 5ms/step - loss: 56.7942 - mse: 57.9687 - val_loss: 82.2521 - val_mse: 58.6918\n",
            "Epoch 30/200\n",
            "13/13 [==============================] - 0s 5ms/step - loss: 58.9333 - mse: 57.9647 - val_loss: 72.1938 - val_mse: 55.1834\n",
            "Epoch 31/200\n",
            "13/13 [==============================] - 0s 5ms/step - loss: 57.2196 - mse: 57.9919 - val_loss: 77.7825 - val_mse: 56.2666\n",
            "Epoch 32/200\n",
            "13/13 [==============================] - 0s 5ms/step - loss: 56.8724 - mse: 57.3059 - val_loss: 74.6673 - val_mse: 55.0368\n",
            "Epoch 33/200\n",
            "13/13 [==============================] - 0s 5ms/step - loss: 56.0609 - mse: 56.9302 - val_loss: 78.8473 - val_mse: 56.4821\n",
            "Epoch 34/200\n",
            "13/13 [==============================] - 0s 5ms/step - loss: 58.2595 - mse: 56.7434 - val_loss: 72.8591 - val_mse: 54.5018\n",
            "Epoch 35/200\n",
            "13/13 [==============================] - 0s 6ms/step - loss: 55.8170 - mse: 56.4686 - val_loss: 78.5778 - val_mse: 56.1866\n",
            "Epoch 36/200\n",
            "13/13 [==============================] - 0s 5ms/step - loss: 56.3375 - mse: 56.6660 - val_loss: 74.0497 - val_mse: 54.4831\n",
            "Epoch 37/200\n",
            "13/13 [==============================] - 0s 6ms/step - loss: 55.9290 - mse: 55.8737 - val_loss: 78.0717 - val_mse: 55.8009\n",
            "Epoch 38/200\n",
            "13/13 [==============================] - 0s 5ms/step - loss: 54.5320 - mse: 55.6559 - val_loss: 77.4442 - val_mse: 55.4007\n",
            "Epoch 39/200\n",
            "13/13 [==============================] - 0s 6ms/step - loss: 54.8923 - mse: 55.9038 - val_loss: 74.4864 - val_mse: 54.1922\n",
            "Epoch 40/200\n",
            "13/13 [==============================] - 0s 6ms/step - loss: 55.1236 - mse: 55.4430 - val_loss: 73.1360 - val_mse: 53.7369\n",
            "Epoch 41/200\n",
            "13/13 [==============================] - 0s 6ms/step - loss: 54.8260 - mse: 54.8418 - val_loss: 71.6408 - val_mse: 53.4249\n",
            "Epoch 42/200\n",
            "13/13 [==============================] - 0s 5ms/step - loss: 53.9105 - mse: 54.2560 - val_loss: 72.8367 - val_mse: 53.3919\n",
            "Epoch 43/200\n",
            "13/13 [==============================] - 0s 6ms/step - loss: 55.1421 - mse: 54.2659 - val_loss: 70.1713 - val_mse: 53.1980\n",
            "Epoch 44/200\n",
            "13/13 [==============================] - 0s 6ms/step - loss: 53.9261 - mse: 54.0587 - val_loss: 77.0787 - val_mse: 54.7402\n",
            "Epoch 45/200\n",
            "13/13 [==============================] - 0s 6ms/step - loss: 52.8515 - mse: 53.1496 - val_loss: 69.8537 - val_mse: 52.8745\n",
            "Epoch 46/200\n",
            "13/13 [==============================] - 0s 5ms/step - loss: 52.6247 - mse: 53.4590 - val_loss: 73.0645 - val_mse: 53.0250\n",
            "Epoch 47/200\n",
            "13/13 [==============================] - 0s 6ms/step - loss: 53.4221 - mse: 53.6935 - val_loss: 71.8867 - val_mse: 52.6583\n",
            "Epoch 48/200\n",
            "13/13 [==============================] - 0s 5ms/step - loss: 53.4291 - mse: 52.6871 - val_loss: 73.0190 - val_mse: 52.8472\n",
            "Epoch 49/200\n",
            "13/13 [==============================] - 0s 5ms/step - loss: 51.7175 - mse: 52.5945 - val_loss: 77.4086 - val_mse: 54.6332\n",
            "Epoch 50/200\n",
            "13/13 [==============================] - 0s 6ms/step - loss: 54.2434 - mse: 52.3994 - val_loss: 68.5132 - val_mse: 52.0234\n",
            "Epoch 51/200\n",
            "13/13 [==============================] - 0s 5ms/step - loss: 52.0720 - mse: 51.7220 - val_loss: 72.8463 - val_mse: 52.4743\n",
            "Epoch 52/200\n",
            "13/13 [==============================] - 0s 5ms/step - loss: 52.4165 - mse: 51.1282 - val_loss: 67.2049 - val_mse: 51.9137\n",
            "Epoch 53/200\n",
            "13/13 [==============================] - 0s 6ms/step - loss: 51.2974 - mse: 52.0485 - val_loss: 75.5930 - val_mse: 53.5343\n",
            "Epoch 54/200\n",
            "13/13 [==============================] - 0s 6ms/step - loss: 51.3179 - mse: 51.7624 - val_loss: 73.3579 - val_mse: 52.4155\n",
            "Epoch 55/200\n",
            "13/13 [==============================] - 0s 5ms/step - loss: 50.1395 - mse: 50.1299 - val_loss: 66.9391 - val_mse: 50.7850\n",
            "Epoch 56/200\n",
            "13/13 [==============================] - 0s 5ms/step - loss: 49.7989 - mse: 50.2704 - val_loss: 68.7746 - val_mse: 50.5726\n",
            "Epoch 57/200\n",
            "13/13 [==============================] - 0s 5ms/step - loss: 49.3351 - mse: 49.9874 - val_loss: 68.5246 - val_mse: 50.3339\n",
            "Epoch 58/200\n",
            "13/13 [==============================] - 0s 5ms/step - loss: 49.2604 - mse: 49.6534 - val_loss: 68.4108 - val_mse: 50.1406\n",
            "Epoch 59/200\n",
            "13/13 [==============================] - 0s 5ms/step - loss: 50.0916 - mse: 48.9867 - val_loss: 65.3912 - val_mse: 49.5833\n",
            "Epoch 60/200\n",
            "13/13 [==============================] - 0s 5ms/step - loss: 51.2665 - mse: 48.7961 - val_loss: 63.1644 - val_mse: 52.3238\n",
            "Epoch 61/200\n",
            "13/13 [==============================] - 0s 5ms/step - loss: 47.9187 - mse: 48.4580 - val_loss: 66.8303 - val_mse: 49.0895\n",
            "Epoch 62/200\n",
            "13/13 [==============================] - 0s 5ms/step - loss: 48.7364 - mse: 47.0074 - val_loss: 62.0560 - val_mse: 51.8214\n",
            "Epoch 63/200\n",
            "13/13 [==============================] - 0s 7ms/step - loss: 47.6421 - mse: 48.6547 - val_loss: 67.6075 - val_mse: 49.0233\n",
            "Epoch 64/200\n",
            "13/13 [==============================] - 0s 7ms/step - loss: 47.2879 - mse: 46.8850 - val_loss: 66.5813 - val_mse: 48.5248\n",
            "Epoch 65/200\n",
            "13/13 [==============================] - 0s 6ms/step - loss: 47.8781 - mse: 46.6987 - val_loss: 60.6616 - val_mse: 47.8203\n",
            "Epoch 66/200\n",
            "13/13 [==============================] - 0s 6ms/step - loss: 45.7472 - mse: 45.9514 - val_loss: 62.3875 - val_mse: 46.8052\n",
            "Epoch 67/200\n",
            "13/13 [==============================] - 0s 5ms/step - loss: 44.4869 - mse: 45.2347 - val_loss: 66.1571 - val_mse: 47.9093\n",
            "Epoch 68/200\n",
            "13/13 [==============================] - 0s 6ms/step - loss: 46.0598 - mse: 45.4478 - val_loss: 58.2813 - val_mse: 46.1076\n",
            "Epoch 69/200\n",
            "13/13 [==============================] - 0s 5ms/step - loss: 44.2800 - mse: 44.3047 - val_loss: 59.5298 - val_mse: 45.1837\n",
            "Epoch 70/200\n",
            "13/13 [==============================] - 0s 5ms/step - loss: 42.9517 - mse: 43.3633 - val_loss: 58.9043 - val_mse: 44.6243\n",
            "Epoch 71/200\n",
            "13/13 [==============================] - 0s 5ms/step - loss: 42.8765 - mse: 43.3661 - val_loss: 63.2647 - val_mse: 46.1553\n",
            "Epoch 72/200\n",
            "13/13 [==============================] - 0s 6ms/step - loss: 43.7274 - mse: 44.1840 - val_loss: 64.7014 - val_mse: 47.0100\n",
            "Epoch 73/200\n",
            "13/13 [==============================] - 0s 6ms/step - loss: 42.1230 - mse: 41.7689 - val_loss: 54.2601 - val_mse: 42.8221\n",
            "Epoch 74/200\n",
            "13/13 [==============================] - 0s 5ms/step - loss: 41.9887 - mse: 41.9839 - val_loss: 53.3022 - val_mse: 42.1790\n",
            "Epoch 75/200\n",
            "13/13 [==============================] - 0s 7ms/step - loss: 40.2102 - mse: 40.3817 - val_loss: 52.6829 - val_mse: 41.3591\n",
            "Epoch 76/200\n",
            "13/13 [==============================] - 0s 5ms/step - loss: 38.9062 - mse: 39.5530 - val_loss: 52.0039 - val_mse: 40.6209\n",
            "Epoch 77/200\n",
            "13/13 [==============================] - 0s 5ms/step - loss: 39.5520 - mse: 39.5160 - val_loss: 51.6559 - val_mse: 40.0309\n",
            "Epoch 78/200\n",
            "13/13 [==============================] - 0s 5ms/step - loss: 38.2223 - mse: 38.5124 - val_loss: 49.8824 - val_mse: 39.2331\n",
            "Epoch 79/200\n",
            "13/13 [==============================] - 0s 6ms/step - loss: 37.4399 - mse: 37.9830 - val_loss: 52.3284 - val_mse: 39.9663\n",
            "Epoch 80/200\n",
            "13/13 [==============================] - 0s 5ms/step - loss: 36.7064 - mse: 37.4134 - val_loss: 58.6568 - val_mse: 44.1722\n",
            "Epoch 81/200\n",
            "13/13 [==============================] - 0s 6ms/step - loss: 36.3642 - mse: 35.7058 - val_loss: 45.3756 - val_mse: 38.8821\n",
            "Epoch 82/200\n",
            "13/13 [==============================] - 0s 5ms/step - loss: 38.6469 - mse: 37.2627 - val_loss: 48.9652 - val_mse: 45.9164\n",
            "Epoch 83/200\n",
            "13/13 [==============================] - 0s 5ms/step - loss: 35.9807 - mse: 35.9184 - val_loss: 43.6782 - val_mse: 35.8848\n",
            "Epoch 84/200\n",
            "13/13 [==============================] - 0s 5ms/step - loss: 33.4839 - mse: 33.8211 - val_loss: 45.4636 - val_mse: 36.0896\n",
            "Epoch 85/200\n",
            "13/13 [==============================] - 0s 5ms/step - loss: 34.5127 - mse: 34.8253 - val_loss: 43.3106 - val_mse: 39.1359\n",
            "Epoch 86/200\n",
            "13/13 [==============================] - 0s 5ms/step - loss: 35.8434 - mse: 36.2650 - val_loss: 43.2180 - val_mse: 34.9553\n",
            "Epoch 87/200\n",
            "13/13 [==============================] - 0s 5ms/step - loss: 34.0584 - mse: 33.7989 - val_loss: 40.3098 - val_mse: 33.7938\n",
            "Epoch 88/200\n",
            "13/13 [==============================] - 0s 6ms/step - loss: 33.1388 - mse: 33.5994 - val_loss: 42.1025 - val_mse: 34.2433\n",
            "Epoch 89/200\n",
            "13/13 [==============================] - 0s 5ms/step - loss: 33.5279 - mse: 33.3807 - val_loss: 38.9078 - val_mse: 33.2725\n",
            "Epoch 90/200\n",
            "13/13 [==============================] - 0s 5ms/step - loss: 31.6609 - mse: 31.9442 - val_loss: 38.8258 - val_mse: 32.6840\n",
            "Epoch 91/200\n",
            "13/13 [==============================] - 0s 6ms/step - loss: 32.7578 - mse: 31.5196 - val_loss: 42.2941 - val_mse: 39.3070\n",
            "Epoch 92/200\n",
            "13/13 [==============================] - 0s 6ms/step - loss: 32.7567 - mse: 32.3887 - val_loss: 37.8327 - val_mse: 31.9663\n",
            "Epoch 93/200\n",
            "13/13 [==============================] - 0s 6ms/step - loss: 31.1951 - mse: 30.7573 - val_loss: 37.2123 - val_mse: 31.9459\n",
            "Epoch 94/200\n",
            "13/13 [==============================] - 0s 6ms/step - loss: 31.0079 - mse: 30.6104 - val_loss: 37.3013 - val_mse: 32.8594\n",
            "Epoch 95/200\n",
            "13/13 [==============================] - 0s 5ms/step - loss: 30.7623 - mse: 31.3044 - val_loss: 38.4459 - val_mse: 32.2315\n",
            "Epoch 96/200\n",
            "13/13 [==============================] - 0s 5ms/step - loss: 30.5826 - mse: 30.5147 - val_loss: 37.2568 - val_mse: 31.5252\n",
            "Epoch 97/200\n",
            "13/13 [==============================] - 0s 5ms/step - loss: 29.5227 - mse: 29.7221 - val_loss: 37.6210 - val_mse: 31.6777\n",
            "Epoch 98/200\n",
            "13/13 [==============================] - 0s 6ms/step - loss: 30.5470 - mse: 30.5482 - val_loss: 39.9837 - val_mse: 36.8088\n",
            "Epoch 99/200\n",
            "13/13 [==============================] - 0s 5ms/step - loss: 30.0549 - mse: 30.3468 - val_loss: 35.4551 - val_mse: 30.5955\n",
            "Epoch 100/200\n",
            "13/13 [==============================] - 0s 6ms/step - loss: 29.6825 - mse: 30.0544 - val_loss: 35.9634 - val_mse: 30.6515\n",
            "Epoch 101/200\n",
            "13/13 [==============================] - 0s 6ms/step - loss: 29.6097 - mse: 29.9259 - val_loss: 36.6492 - val_mse: 31.1719\n",
            "Epoch 102/200\n",
            "13/13 [==============================] - 0s 6ms/step - loss: 29.2570 - mse: 28.7631 - val_loss: 35.2916 - val_mse: 30.4187\n",
            "Epoch 103/200\n",
            "13/13 [==============================] - 0s 6ms/step - loss: 29.2530 - mse: 29.1170 - val_loss: 35.8574 - val_mse: 32.0789\n",
            "Epoch 104/200\n",
            "13/13 [==============================] - 0s 6ms/step - loss: 28.5930 - mse: 29.1996 - val_loss: 36.6450 - val_mse: 31.2667\n",
            "Epoch 105/200\n",
            "13/13 [==============================] - 0s 6ms/step - loss: 29.0112 - mse: 29.3704 - val_loss: 34.6788 - val_mse: 29.8385\n",
            "Epoch 106/200\n",
            "13/13 [==============================] - 0s 6ms/step - loss: 29.1168 - mse: 29.4263 - val_loss: 34.7380 - val_mse: 29.8759\n",
            "Epoch 107/200\n",
            "13/13 [==============================] - 0s 5ms/step - loss: 29.6814 - mse: 29.4187 - val_loss: 34.2020 - val_mse: 29.6353\n",
            "Epoch 108/200\n",
            "13/13 [==============================] - 0s 5ms/step - loss: 28.4095 - mse: 27.9401 - val_loss: 34.6405 - val_mse: 30.0733\n",
            "Epoch 109/200\n",
            "13/13 [==============================] - 0s 6ms/step - loss: 29.3680 - mse: 29.6333 - val_loss: 33.9973 - val_mse: 29.7239\n",
            "Epoch 110/200\n",
            "13/13 [==============================] - 0s 5ms/step - loss: 30.1689 - mse: 29.7721 - val_loss: 43.8944 - val_mse: 37.6023\n",
            "Epoch 111/200\n",
            "13/13 [==============================] - 0s 5ms/step - loss: 28.7606 - mse: 29.1102 - val_loss: 38.4432 - val_mse: 33.0119\n",
            "Epoch 112/200\n",
            "13/13 [==============================] - 0s 5ms/step - loss: 28.5106 - mse: 28.6299 - val_loss: 33.6760 - val_mse: 29.8317\n",
            "Epoch 113/200\n",
            "13/13 [==============================] - 0s 5ms/step - loss: 27.7958 - mse: 27.9759 - val_loss: 33.0995 - val_mse: 29.0628\n",
            "Epoch 114/200\n",
            "13/13 [==============================] - 0s 6ms/step - loss: 29.3151 - mse: 28.8534 - val_loss: 33.4185 - val_mse: 29.6281\n",
            "Epoch 115/200\n",
            "13/13 [==============================] - 0s 5ms/step - loss: 30.0379 - mse: 30.0937 - val_loss: 33.2647 - val_mse: 29.4701\n",
            "Epoch 116/200\n",
            "13/13 [==============================] - 0s 5ms/step - loss: 27.8838 - mse: 28.3220 - val_loss: 33.5863 - val_mse: 29.2853\n",
            "Epoch 117/200\n",
            "13/13 [==============================] - 0s 6ms/step - loss: 27.6081 - mse: 27.4162 - val_loss: 33.3586 - val_mse: 29.6783\n",
            "Epoch 118/200\n",
            "13/13 [==============================] - 0s 5ms/step - loss: 28.4465 - mse: 28.7773 - val_loss: 37.0858 - val_mse: 32.1958\n",
            "Epoch 119/200\n",
            "13/13 [==============================] - 0s 6ms/step - loss: 27.4560 - mse: 27.8495 - val_loss: 32.5465 - val_mse: 28.6464\n",
            "Epoch 120/200\n",
            "13/13 [==============================] - 0s 5ms/step - loss: 27.7309 - mse: 27.8135 - val_loss: 33.6961 - val_mse: 29.4526\n",
            "Epoch 121/200\n",
            "13/13 [==============================] - 0s 5ms/step - loss: 27.3955 - mse: 27.4347 - val_loss: 32.5557 - val_mse: 28.5829\n",
            "Epoch 122/200\n",
            "13/13 [==============================] - 0s 5ms/step - loss: 27.1875 - mse: 27.0550 - val_loss: 32.2701 - val_mse: 28.4639\n",
            "Epoch 123/200\n",
            "13/13 [==============================] - 0s 5ms/step - loss: 27.2609 - mse: 27.0698 - val_loss: 32.4802 - val_mse: 28.8429\n",
            "Epoch 124/200\n",
            "13/13 [==============================] - 0s 5ms/step - loss: 26.3791 - mse: 26.8252 - val_loss: 35.1560 - val_mse: 30.8613\n",
            "Epoch 125/200\n",
            "13/13 [==============================] - 0s 5ms/step - loss: 26.9291 - mse: 26.7048 - val_loss: 32.0241 - val_mse: 28.3896\n",
            "Epoch 126/200\n",
            "13/13 [==============================] - 0s 6ms/step - loss: 26.8169 - mse: 26.3692 - val_loss: 32.9385 - val_mse: 29.3336\n",
            "Epoch 127/200\n",
            "13/13 [==============================] - 0s 6ms/step - loss: 26.0532 - mse: 26.1208 - val_loss: 31.8411 - val_mse: 28.1873\n",
            "Epoch 128/200\n",
            "13/13 [==============================] - 0s 6ms/step - loss: 27.1319 - mse: 26.6472 - val_loss: 33.3538 - val_mse: 29.7216\n",
            "Epoch 129/200\n",
            "13/13 [==============================] - 0s 6ms/step - loss: 30.1811 - mse: 30.0089 - val_loss: 31.9910 - val_mse: 28.4085\n",
            "Epoch 130/200\n",
            "13/13 [==============================] - 0s 6ms/step - loss: 27.0750 - mse: 27.1468 - val_loss: 32.3206 - val_mse: 28.7230\n",
            "Epoch 131/200\n",
            "13/13 [==============================] - 0s 5ms/step - loss: 25.2615 - mse: 25.5332 - val_loss: 32.0814 - val_mse: 28.3558\n",
            "Epoch 132/200\n",
            "13/13 [==============================] - 0s 5ms/step - loss: 25.6727 - mse: 26.1904 - val_loss: 33.3858 - val_mse: 29.5126\n",
            "Epoch 133/200\n",
            "13/13 [==============================] - 0s 5ms/step - loss: 25.5267 - mse: 25.3261 - val_loss: 31.8031 - val_mse: 28.0354\n",
            "Epoch 134/200\n",
            "13/13 [==============================] - 0s 5ms/step - loss: 25.4587 - mse: 25.7009 - val_loss: 34.8389 - val_mse: 30.8448\n",
            "Epoch 135/200\n",
            "13/13 [==============================] - 0s 5ms/step - loss: 26.6483 - mse: 25.8864 - val_loss: 32.8856 - val_mse: 28.9907\n",
            "Epoch 136/200\n",
            "13/13 [==============================] - 0s 6ms/step - loss: 25.2490 - mse: 25.1185 - val_loss: 32.1039 - val_mse: 28.2698\n",
            "Epoch 137/200\n",
            "13/13 [==============================] - 0s 5ms/step - loss: 25.6290 - mse: 25.6286 - val_loss: 31.4966 - val_mse: 27.7332\n",
            "Epoch 138/200\n",
            "13/13 [==============================] - 0s 6ms/step - loss: 24.7824 - mse: 25.1482 - val_loss: 31.5027 - val_mse: 27.7089\n",
            "Epoch 139/200\n",
            "13/13 [==============================] - 0s 5ms/step - loss: 25.2772 - mse: 25.5366 - val_loss: 31.7705 - val_mse: 27.9467\n",
            "Epoch 140/200\n",
            "13/13 [==============================] - 0s 6ms/step - loss: 24.9561 - mse: 24.8927 - val_loss: 31.1640 - val_mse: 27.4217\n",
            "Epoch 141/200\n",
            "13/13 [==============================] - 0s 5ms/step - loss: 24.5150 - mse: 24.9063 - val_loss: 31.0833 - val_mse: 27.2963\n",
            "Epoch 142/200\n",
            "13/13 [==============================] - 0s 5ms/step - loss: 24.3386 - mse: 24.5279 - val_loss: 30.9886 - val_mse: 27.2170\n",
            "Epoch 143/200\n",
            "13/13 [==============================] - 0s 6ms/step - loss: 24.4367 - mse: 24.6260 - val_loss: 30.9313 - val_mse: 27.1796\n",
            "Epoch 144/200\n",
            "13/13 [==============================] - 0s 5ms/step - loss: 25.5045 - mse: 25.3007 - val_loss: 33.3518 - val_mse: 29.6061\n",
            "Epoch 145/200\n",
            "13/13 [==============================] - 0s 6ms/step - loss: 24.2380 - mse: 24.0043 - val_loss: 30.9326 - val_mse: 27.2285\n",
            "Epoch 146/200\n",
            "13/13 [==============================] - 0s 6ms/step - loss: 24.8359 - mse: 25.0687 - val_loss: 30.7332 - val_mse: 27.0334\n",
            "Epoch 147/200\n",
            "13/13 [==============================] - 0s 6ms/step - loss: 24.5888 - mse: 24.7700 - val_loss: 30.6321 - val_mse: 26.9322\n",
            "Epoch 148/200\n",
            "13/13 [==============================] - 0s 6ms/step - loss: 24.7188 - mse: 24.7303 - val_loss: 31.3922 - val_mse: 27.7468\n",
            "Epoch 149/200\n",
            "13/13 [==============================] - 0s 5ms/step - loss: 25.2257 - mse: 25.3666 - val_loss: 31.0998 - val_mse: 27.4219\n",
            "Epoch 150/200\n",
            "13/13 [==============================] - 0s 5ms/step - loss: 23.6802 - mse: 24.0656 - val_loss: 30.5139 - val_mse: 26.7010\n",
            "Epoch 151/200\n",
            "13/13 [==============================] - 0s 5ms/step - loss: 24.9706 - mse: 23.9071 - val_loss: 30.5613 - val_mse: 26.8105\n",
            "Epoch 152/200\n",
            "13/13 [==============================] - 0s 6ms/step - loss: 23.6300 - mse: 23.7509 - val_loss: 31.6501 - val_mse: 28.0445\n",
            "Epoch 153/200\n",
            "13/13 [==============================] - 0s 6ms/step - loss: 22.7611 - mse: 22.5985 - val_loss: 30.4634 - val_mse: 26.6755\n",
            "Epoch 154/200\n",
            "13/13 [==============================] - 0s 5ms/step - loss: 24.2422 - mse: 23.3306 - val_loss: 34.9560 - val_mse: 30.4007\n",
            "Epoch 155/200\n",
            "13/13 [==============================] - 0s 6ms/step - loss: 23.5168 - mse: 23.8029 - val_loss: 33.3192 - val_mse: 29.7536\n",
            "Epoch 156/200\n",
            "13/13 [==============================] - 0s 5ms/step - loss: 25.1837 - mse: 25.2008 - val_loss: 30.6493 - val_mse: 26.6663\n",
            "Epoch 157/200\n",
            "13/13 [==============================] - 0s 6ms/step - loss: 22.9050 - mse: 23.2028 - val_loss: 32.6477 - val_mse: 29.0526\n",
            "Epoch 158/200\n",
            "13/13 [==============================] - 0s 5ms/step - loss: 24.6576 - mse: 24.8193 - val_loss: 30.4160 - val_mse: 26.4892\n",
            "Epoch 159/200\n",
            "13/13 [==============================] - 0s 6ms/step - loss: 23.3086 - mse: 23.2363 - val_loss: 31.4685 - val_mse: 27.8865\n",
            "Epoch 160/200\n",
            "13/13 [==============================] - 0s 6ms/step - loss: 23.4208 - mse: 23.2485 - val_loss: 30.3193 - val_mse: 26.5034\n",
            "Epoch 161/200\n",
            "13/13 [==============================] - 0s 5ms/step - loss: 23.8382 - mse: 23.4884 - val_loss: 34.5862 - val_mse: 29.8283\n",
            "Epoch 162/200\n",
            "13/13 [==============================] - 0s 5ms/step - loss: 23.0401 - mse: 23.2979 - val_loss: 31.3709 - val_mse: 27.7788\n",
            "Epoch 163/200\n",
            "13/13 [==============================] - 0s 5ms/step - loss: 22.0678 - mse: 22.1652 - val_loss: 30.3176 - val_mse: 26.5790\n",
            "Epoch 164/200\n",
            "13/13 [==============================] - 0s 5ms/step - loss: 23.1368 - mse: 23.1629 - val_loss: 30.8697 - val_mse: 27.1856\n",
            "Epoch 165/200\n",
            "13/13 [==============================] - 0s 6ms/step - loss: 23.1143 - mse: 23.2458 - val_loss: 30.3194 - val_mse: 26.4674\n",
            "Epoch 166/200\n",
            "13/13 [==============================] - 0s 7ms/step - loss: 21.8388 - mse: 21.7196 - val_loss: 30.1725 - val_mse: 26.2174\n",
            "Epoch 167/200\n",
            "13/13 [==============================] - 0s 5ms/step - loss: 22.3191 - mse: 22.2579 - val_loss: 30.2397 - val_mse: 26.4079\n",
            "Epoch 168/200\n",
            "13/13 [==============================] - 0s 6ms/step - loss: 22.5623 - mse: 22.6768 - val_loss: 33.0657 - val_mse: 29.3995\n",
            "Epoch 169/200\n",
            "13/13 [==============================] - 0s 5ms/step - loss: 22.4233 - mse: 21.7271 - val_loss: 40.9747 - val_mse: 35.0163\n",
            "Epoch 170/200\n",
            "13/13 [==============================] - 0s 6ms/step - loss: 22.7111 - mse: 22.7416 - val_loss: 31.2613 - val_mse: 26.7107\n",
            "Epoch 171/200\n",
            "13/13 [==============================] - 0s 5ms/step - loss: 20.8490 - mse: 21.1436 - val_loss: 30.5236 - val_mse: 26.4634\n",
            "Epoch 172/200\n",
            "13/13 [==============================] - 0s 6ms/step - loss: 21.2855 - mse: 21.1100 - val_loss: 31.2430 - val_mse: 27.2445\n",
            "Epoch 173/200\n",
            "13/13 [==============================] - 0s 5ms/step - loss: 21.7837 - mse: 21.2818 - val_loss: 32.2527 - val_mse: 27.3797\n",
            "Epoch 174/200\n",
            "13/13 [==============================] - 0s 5ms/step - loss: 20.4902 - mse: 20.8374 - val_loss: 31.0369 - val_mse: 27.0801\n",
            "Epoch 175/200\n",
            "13/13 [==============================] - 0s 6ms/step - loss: 20.3616 - mse: 20.5019 - val_loss: 30.4917 - val_mse: 26.1360\n",
            "Epoch 176/200\n",
            "13/13 [==============================] - 0s 5ms/step - loss: 21.2250 - mse: 20.6998 - val_loss: 35.0272 - val_mse: 29.2260\n",
            "Epoch 177/200\n",
            "13/13 [==============================] - 0s 5ms/step - loss: 20.9039 - mse: 20.8891 - val_loss: 33.5276 - val_mse: 29.8145\n",
            "Epoch 178/200\n",
            "13/13 [==============================] - 0s 6ms/step - loss: 21.4979 - mse: 21.6615 - val_loss: 33.1217 - val_mse: 29.2577\n",
            "Epoch 179/200\n",
            "13/13 [==============================] - 0s 6ms/step - loss: 20.2024 - mse: 20.2207 - val_loss: 30.9763 - val_mse: 26.1260\n",
            "Epoch 180/200\n",
            "13/13 [==============================] - 0s 6ms/step - loss: 20.2327 - mse: 20.0043 - val_loss: 34.6308 - val_mse: 28.6107\n",
            "Epoch 181/200\n",
            "13/13 [==============================] - 0s 5ms/step - loss: 20.3588 - mse: 20.5447 - val_loss: 32.3407 - val_mse: 28.4911\n",
            "Epoch 182/200\n",
            "13/13 [==============================] - 0s 5ms/step - loss: 19.6626 - mse: 19.9868 - val_loss: 31.5059 - val_mse: 27.4937\n",
            "Epoch 183/200\n",
            "13/13 [==============================] - 0s 5ms/step - loss: 19.8959 - mse: 20.0945 - val_loss: 30.6933 - val_mse: 26.0419\n",
            "Epoch 184/200\n",
            "13/13 [==============================] - 0s 6ms/step - loss: 19.8918 - mse: 19.5796 - val_loss: 32.2143 - val_mse: 26.6802\n",
            "Epoch 185/200\n",
            "13/13 [==============================] - 0s 6ms/step - loss: 20.2802 - mse: 20.3543 - val_loss: 34.2053 - val_mse: 28.0586\n",
            "Epoch 186/200\n",
            "13/13 [==============================] - 0s 5ms/step - loss: 20.0469 - mse: 19.5708 - val_loss: 33.8201 - val_mse: 27.7149\n",
            "Epoch 187/200\n",
            "13/13 [==============================] - 0s 5ms/step - loss: 22.2570 - mse: 22.4298 - val_loss: 31.2750 - val_mse: 26.7005\n",
            "Epoch 188/200\n",
            "13/13 [==============================] - 0s 6ms/step - loss: 19.2577 - mse: 19.5288 - val_loss: 30.9676 - val_mse: 26.0346\n",
            "Epoch 189/200\n",
            "13/13 [==============================] - 0s 5ms/step - loss: 20.7926 - mse: 20.5812 - val_loss: 33.7956 - val_mse: 29.8085\n",
            "Epoch 190/200\n",
            "13/13 [==============================] - 0s 5ms/step - loss: 20.1502 - mse: 20.1066 - val_loss: 30.5999 - val_mse: 25.8465\n",
            "Epoch 191/200\n",
            "13/13 [==============================] - 0s 6ms/step - loss: 19.6786 - mse: 19.5529 - val_loss: 33.1562 - val_mse: 27.0229\n",
            "Epoch 192/200\n",
            "13/13 [==============================] - 0s 5ms/step - loss: 19.3155 - mse: 19.4996 - val_loss: 32.4648 - val_mse: 28.1200\n",
            "Epoch 193/200\n",
            "13/13 [==============================] - 0s 6ms/step - loss: 19.1485 - mse: 18.9851 - val_loss: 31.8231 - val_mse: 27.2149\n",
            "Epoch 194/200\n",
            "13/13 [==============================] - 0s 6ms/step - loss: 18.9608 - mse: 18.7162 - val_loss: 31.7756 - val_mse: 26.5151\n",
            "Epoch 195/200\n",
            "13/13 [==============================] - 0s 15ms/step - loss: 18.7214 - mse: 18.7492 - val_loss: 33.1447 - val_mse: 28.5350\n",
            "Epoch 196/200\n",
            "13/13 [==============================] - 0s 5ms/step - loss: 19.4683 - mse: 19.4714 - val_loss: 31.7045 - val_mse: 26.1936\n",
            "Epoch 197/200\n",
            "13/13 [==============================] - 0s 5ms/step - loss: 18.0243 - mse: 18.1644 - val_loss: 32.6900 - val_mse: 27.6833\n",
            "Epoch 198/200\n",
            "13/13 [==============================] - 0s 5ms/step - loss: 18.0964 - mse: 18.3753 - val_loss: 32.6103 - val_mse: 27.6776\n",
            "Epoch 199/200\n",
            "13/13 [==============================] - 0s 6ms/step - loss: 18.9854 - mse: 19.0142 - val_loss: 34.5149 - val_mse: 30.0909\n",
            "Epoch 200/200\n",
            "13/13 [==============================] - 0s 5ms/step - loss: 18.4182 - mse: 18.6105 - val_loss: 36.2425 - val_mse: 28.4473\n"
          ],
          "name": "stdout"
        },
        {
          "output_type": "execute_result",
          "data": {
            "text/plain": [
              "<tensorflow.python.keras.callbacks.History at 0x7f14705a1e48>"
            ]
          },
          "metadata": {
            "tags": []
          },
          "execution_count": 8
        }
      ]
    },
    {
      "cell_type": "code",
      "metadata": {
        "id": "r5OIfLVwLmU3",
        "colab_type": "code",
        "colab": {
          "base_uri": "https://localhost:8080/",
          "height": 295
        },
        "outputId": "7ab8380d-f965-43c8-a9a6-1e768306ef40"
      },
      "source": [
        "''' visualizing... '''\n",
        "\n",
        "import matplotlib.pyplot as plt\n",
        "\n",
        "log = model.history.history\n",
        "\n",
        "plt.plot(log['loss'], label='train loss')\n",
        "plt.plot(log['val_loss'], label='validation loss')\n",
        "plt.xlabel('epochs')\n",
        "plt.ylabel('mean squared error')"
      ],
      "execution_count": 9,
      "outputs": [
        {
          "output_type": "execute_result",
          "data": {
            "text/plain": [
              "Text(0, 0.5, 'mean squared error')"
            ]
          },
          "metadata": {
            "tags": []
          },
          "execution_count": 9
        },
        {
          "output_type": "display_data",
          "data": {
            "image/png": "[encoded data removed]",
            "text/plain": [
              "<Figure size 432x288 with 1 Axes>"
            ]
          },
          "metadata": {
            "tags": [],
            "needs_background": "light"
          }
        }
      ]
    },
    {
      "cell_type": "markdown",
      "metadata": {
        "colab_type": "text",
        "id": "SfcFnOONyuNm"
      },
      "source": [
        "## Use the Keras Library to build an image recognition network using the Fashion-MNIST dataset (also comes with keras)\n",
        "\n",
        "- Load and preprocess the image data similar to how we preprocessed the MNIST data in class.\n",
        "- Make sure to one-hot encode your category labels\n",
        "- The number of nodes in your output layer should equal the number of classes you want to predict for Fashion-MNIST.\n",
        "- Try different hyperparameters. What is the highest accuracy that you are able to achieve.\n",
        "- Use the history object that is returned from model.fit to make graphs of the model's loss or train/validation accuracies by epoch. \n",
        "- Remember that neural networks fall prey to randomness so you may need to run your model multiple times (or use Cross Validation) in order to tell if a change to a hyperparameter is truly producing better results."
      ]
    },
    {
      "cell_type": "code",
      "metadata": {
        "colab_type": "code",
        "id": "szi6-IpuzaH1",
        "colab": {
          "base_uri": "https://localhost:8080/",
          "height": 147
        },
        "outputId": "04919400-a725-4135-e277-997f20fe4bb2"
      },
      "source": [
        "''' Load and preprocess the image data similar to how we preprocessed the MNIST data in class. '''\n",
        "\n",
        "(xtrain, ytrain), (xtest, ytest) = tf.keras.datasets.fashion_mnist.load_data()"
      ],
      "execution_count": 10,
      "outputs": [
        {
          "output_type": "stream",
          "text": [
            "Downloading data from https://storage.googleapis.com/tensorflow/tf-keras-datasets/train-labels-idx1-ubyte.gz\n",
            "32768/29515 [=================================] - 0s 0us/step\n",
            "Downloading data from https://storage.googleapis.com/tensorflow/tf-keras-datasets/train-images-idx3-ubyte.gz\n",
            "26427392/26421880 [==============================] - 0s 0us/step\n",
            "Downloading data from https://storage.googleapis.com/tensorflow/tf-keras-datasets/t10k-labels-idx1-ubyte.gz\n",
            "8192/5148 [===============================================] - 0s 0us/step\n",
            "Downloading data from https://storage.googleapis.com/tensorflow/tf-keras-datasets/t10k-images-idx3-ubyte.gz\n",
            "4423680/4422102 [==============================] - 0s 0us/step\n"
          ],
          "name": "stdout"
        }
      ]
    },
    {
      "cell_type": "code",
      "metadata": {
        "id": "ADnEKp4pNj1E",
        "colab_type": "code",
        "colab": {}
      },
      "source": [
        "''' Make sure to one-hot encode your category labels '''\n",
        "\n",
        "ytrain = tf.keras.utils.to_categorical(ytrain)\n",
        "ytest = tf.keras.utils.to_categorical(ytest)"
      ],
      "execution_count": 0,
      "outputs": []
    },
    {
      "cell_type": "code",
      "metadata": {
        "id": "S2cqfaaoN_iF",
        "colab_type": "code",
        "colab": {
          "base_uri": "https://localhost:8080/",
          "height": 1000
        },
        "outputId": "9a2f3dd0-3bd5-4ccf-9f3d-2f87fb3e663d"
      },
      "source": [
        "''' The number of nodes in your output layer should equal the number of classes you want to predict for Fashion-MNIST. '''\n",
        "\n",
        "model = tf.keras.models.Sequential([\n",
        "                                    tf.keras.layers.Flatten(input_shape=(28,28)),\n",
        "                                    tf.keras.layers.Dense(784, activation='selu'),\n",
        "                                    tf.keras.layers.Dense(784, activation='selu'),\n",
        "                                    tf.keras.layers.Dense(784, activation='selu'),\n",
        "                                    tf.keras.layers.Dense(10, activation='softmax'),\n",
        "])\n",
        "\n",
        "model.compile(loss='categorical_crossentropy', optimizer='nadam', metrics=['accuracy'])\n",
        "\n",
        "model.fit(x=xtrain, y=ytrain, epochs=32, validation_data=(xtest, ytest))"
      ],
      "execution_count": 12,
      "outputs": [
        {
          "output_type": "stream",
          "text": [
            "Epoch 1/32\n",
            "1875/1875 [==============================] - 8s 4ms/step - loss: 1.6292 - accuracy: 0.7904 - val_loss: 0.4583 - val_accuracy: 0.8354\n",
            "Epoch 2/32\n",
            "1875/1875 [==============================] - 8s 4ms/step - loss: 0.4541 - accuracy: 0.8395 - val_loss: 0.4184 - val_accuracy: 0.8547\n",
            "Epoch 3/32\n",
            "1875/1875 [==============================] - 8s 4ms/step - loss: 0.4347 - accuracy: 0.8466 - val_loss: 0.4548 - val_accuracy: 0.8459\n",
            "Epoch 4/32\n",
            "1875/1875 [==============================] - 8s 4ms/step - loss: 0.4223 - accuracy: 0.8511 - val_loss: 0.4473 - val_accuracy: 0.8488\n",
            "Epoch 5/32\n",
            "1875/1875 [==============================] - 8s 4ms/step - loss: 0.4182 - accuracy: 0.8558 - val_loss: 0.4269 - val_accuracy: 0.8483\n",
            "Epoch 6/32\n",
            "1875/1875 [==============================] - 8s 4ms/step - loss: 0.3971 - accuracy: 0.8640 - val_loss: 0.4236 - val_accuracy: 0.8552\n",
            "Epoch 7/32\n",
            "1875/1875 [==============================] - 8s 4ms/step - loss: 0.3777 - accuracy: 0.8694 - val_loss: 0.5240 - val_accuracy: 0.8328\n",
            "Epoch 8/32\n",
            "1875/1875 [==============================] - 7s 4ms/step - loss: 0.3828 - accuracy: 0.8693 - val_loss: 0.4329 - val_accuracy: 0.8638\n",
            "Epoch 9/32\n",
            "1875/1875 [==============================] - 7s 4ms/step - loss: 0.4184 - accuracy: 0.8734 - val_loss: 0.4955 - val_accuracy: 0.8341\n",
            "Epoch 10/32\n",
            "1875/1875 [==============================] - 8s 4ms/step - loss: 0.4168 - accuracy: 0.8773 - val_loss: 0.4818 - val_accuracy: 0.8579\n",
            "Epoch 11/32\n",
            "1875/1875 [==============================] - 8s 4ms/step - loss: 0.4132 - accuracy: 0.8769 - val_loss: 0.4520 - val_accuracy: 0.8521\n",
            "Epoch 12/32\n",
            "1875/1875 [==============================] - 8s 4ms/step - loss: 0.3444 - accuracy: 0.8827 - val_loss: 0.4713 - val_accuracy: 0.8573\n",
            "Epoch 13/32\n",
            "1875/1875 [==============================] - 8s 4ms/step - loss: 0.3368 - accuracy: 0.8852 - val_loss: 0.3754 - val_accuracy: 0.8739\n",
            "Epoch 14/32\n",
            "1875/1875 [==============================] - 8s 4ms/step - loss: 0.3354 - accuracy: 0.8867 - val_loss: 0.4258 - val_accuracy: 0.8673\n",
            "Epoch 15/32\n",
            "1875/1875 [==============================] - 8s 4ms/step - loss: 0.3331 - accuracy: 0.8865 - val_loss: 0.4791 - val_accuracy: 0.8522\n",
            "Epoch 16/32\n",
            "1875/1875 [==============================] - 8s 4ms/step - loss: 0.3657 - accuracy: 0.8847 - val_loss: 0.4141 - val_accuracy: 0.8710\n",
            "Epoch 17/32\n",
            "1875/1875 [==============================] - 8s 4ms/step - loss: 0.3114 - accuracy: 0.8943 - val_loss: 0.4410 - val_accuracy: 0.8682\n",
            "Epoch 18/32\n",
            "1875/1875 [==============================] - 8s 4ms/step - loss: 0.3176 - accuracy: 0.8930 - val_loss: 0.3664 - val_accuracy: 0.8791\n",
            "Epoch 19/32\n",
            "1875/1875 [==============================] - 7s 4ms/step - loss: 0.3182 - accuracy: 0.8944 - val_loss: 0.4591 - val_accuracy: 0.8660\n",
            "Epoch 20/32\n",
            "1875/1875 [==============================] - 7s 4ms/step - loss: 0.3127 - accuracy: 0.8954 - val_loss: 0.4512 - val_accuracy: 0.8751\n",
            "Epoch 21/32\n",
            "1875/1875 [==============================] - 8s 4ms/step - loss: 0.3908 - accuracy: 0.8944 - val_loss: 0.4983 - val_accuracy: 0.8391\n",
            "Epoch 22/32\n",
            "1875/1875 [==============================] - 8s 4ms/step - loss: 0.3097 - accuracy: 0.8962 - val_loss: 0.4973 - val_accuracy: 0.8695\n",
            "Epoch 23/32\n",
            "1875/1875 [==============================] - 8s 4ms/step - loss: 0.3100 - accuracy: 0.8984 - val_loss: 0.4873 - val_accuracy: 0.8657\n",
            "Epoch 24/32\n",
            "1875/1875 [==============================] - 8s 4ms/step - loss: 0.2897 - accuracy: 0.9018 - val_loss: 0.5324 - val_accuracy: 0.8616\n",
            "Epoch 25/32\n",
            "1875/1875 [==============================] - 8s 4ms/step - loss: 0.3001 - accuracy: 0.9007 - val_loss: 0.5524 - val_accuracy: 0.8537\n",
            "Epoch 26/32\n",
            "1875/1875 [==============================] - 7s 4ms/step - loss: 0.3061 - accuracy: 0.8999 - val_loss: 0.4895 - val_accuracy: 0.8676\n",
            "Epoch 27/32\n",
            "1875/1875 [==============================] - 7s 4ms/step - loss: 0.2939 - accuracy: 0.9019 - val_loss: 0.6773 - val_accuracy: 0.8655\n",
            "Epoch 28/32\n",
            "1875/1875 [==============================] - 7s 4ms/step - loss: 0.3015 - accuracy: 0.9028 - val_loss: 1.4498 - val_accuracy: 0.8635\n",
            "Epoch 29/32\n",
            "1875/1875 [==============================] - 7s 4ms/step - loss: 0.2883 - accuracy: 0.9050 - val_loss: 0.9947 - val_accuracy: 0.8794\n",
            "Epoch 30/32\n",
            "1875/1875 [==============================] - 8s 4ms/step - loss: 0.4173 - accuracy: 0.9032 - val_loss: 1.1395 - val_accuracy: 0.7527\n",
            "Epoch 31/32\n",
            "1875/1875 [==============================] - 8s 4ms/step - loss: 0.3179 - accuracy: 0.9018 - val_loss: 0.9105 - val_accuracy: 0.8650\n",
            "Epoch 32/32\n",
            "1875/1875 [==============================] - 7s 4ms/step - loss: 0.2997 - accuracy: 0.9091 - val_loss: 0.5349 - val_accuracy: 0.8797\n"
          ],
          "name": "stdout"
        },
        {
          "output_type": "execute_result",
          "data": {
            "text/plain": [
              "<tensorflow.python.keras.callbacks.History at 0x7f1470173d30>"
            ]
          },
          "metadata": {
            "tags": []
          },
          "execution_count": 12
        }
      ]
    },
    {
      "cell_type": "code",
      "metadata": {
        "id": "LXp2VHLoRSai",
        "colab_type": "code",
        "colab": {
          "base_uri": "https://localhost:8080/",
          "height": 1000
        },
        "outputId": "1fc4a666-0360-481c-e09a-6b0947987f48"
      },
      "source": [
        "''' The number of nodes in your output layer should equal the number of classes you want to predict for Fashion-MNIST. '''\n",
        "\n",
        "model = tf.keras.models.Sequential([\n",
        "                                    tf.keras.layers.Flatten(input_shape=(28,28)),\n",
        "                                    tf.keras.layers.Dense(784, activation='relu'),\n",
        "                                    tf.keras.layers.Dense(784, activation='relu'),\n",
        "                                    tf.keras.layers.Dense(784, activation='relu'),\n",
        "                                    tf.keras.layers.Dense(10, activation='softmax'),\n",
        "])\n",
        "\n",
        "model.compile(loss='categorical_crossentropy', optimizer='nadam', metrics=['accuracy'])\n",
        "\n",
        "model.fit(x=xtrain, y=ytrain, epochs=32, validation_data=(xtest, ytest))"
      ],
      "execution_count": 15,
      "outputs": [
        {
          "output_type": "stream",
          "text": [
            "Epoch 1/32\n",
            "1875/1875 [==============================] - 8s 4ms/step - loss: 1.5036 - accuracy: 0.7889 - val_loss: 0.4859 - val_accuracy: 0.8245\n",
            "Epoch 2/32\n",
            "1875/1875 [==============================] - 8s 4ms/step - loss: 0.4364 - accuracy: 0.8443 - val_loss: 0.4853 - val_accuracy: 0.8314\n",
            "Epoch 3/32\n",
            "1875/1875 [==============================] - 7s 4ms/step - loss: 0.3998 - accuracy: 0.8562 - val_loss: 0.4113 - val_accuracy: 0.8515\n",
            "Epoch 4/32\n",
            "1875/1875 [==============================] - 7s 4ms/step - loss: 0.3835 - accuracy: 0.8625 - val_loss: 0.3971 - val_accuracy: 0.8598\n",
            "Epoch 5/32\n",
            "1875/1875 [==============================] - 7s 4ms/step - loss: 0.3725 - accuracy: 0.8680 - val_loss: 0.4221 - val_accuracy: 0.8572\n",
            "Epoch 6/32\n",
            "1875/1875 [==============================] - 7s 4ms/step - loss: 0.3566 - accuracy: 0.8723 - val_loss: 0.3936 - val_accuracy: 0.8647\n",
            "Epoch 7/32\n",
            "1875/1875 [==============================] - 7s 4ms/step - loss: 0.3477 - accuracy: 0.8771 - val_loss: 0.4097 - val_accuracy: 0.8673\n",
            "Epoch 8/32\n",
            "1875/1875 [==============================] - 7s 4ms/step - loss: 0.3310 - accuracy: 0.8824 - val_loss: 0.4361 - val_accuracy: 0.8600\n",
            "Epoch 9/32\n",
            "1875/1875 [==============================] - 7s 4ms/step - loss: 0.3268 - accuracy: 0.8842 - val_loss: 0.4647 - val_accuracy: 0.8480\n",
            "Epoch 10/32\n",
            "1875/1875 [==============================] - 7s 4ms/step - loss: 0.3156 - accuracy: 0.8882 - val_loss: 0.4050 - val_accuracy: 0.8641\n",
            "Epoch 11/32\n",
            "1875/1875 [==============================] - 8s 4ms/step - loss: 0.3147 - accuracy: 0.8887 - val_loss: 0.4257 - val_accuracy: 0.8577\n",
            "Epoch 12/32\n",
            "1875/1875 [==============================] - 7s 4ms/step - loss: 0.3019 - accuracy: 0.8921 - val_loss: 0.3834 - val_accuracy: 0.8709\n",
            "Epoch 13/32\n",
            "1875/1875 [==============================] - 8s 4ms/step - loss: 0.2914 - accuracy: 0.8950 - val_loss: 0.4310 - val_accuracy: 0.8664\n",
            "Epoch 14/32\n",
            "1875/1875 [==============================] - 8s 4ms/step - loss: 0.2958 - accuracy: 0.8960 - val_loss: 0.4332 - val_accuracy: 0.8669\n",
            "Epoch 15/32\n",
            "1875/1875 [==============================] - 7s 4ms/step - loss: 0.2893 - accuracy: 0.8966 - val_loss: 0.4106 - val_accuracy: 0.8722\n",
            "Epoch 16/32\n",
            "1875/1875 [==============================] - 7s 4ms/step - loss: 0.2901 - accuracy: 0.8970 - val_loss: 0.4030 - val_accuracy: 0.8773\n",
            "Epoch 17/32\n",
            "1875/1875 [==============================] - 7s 4ms/step - loss: 0.2935 - accuracy: 0.8974 - val_loss: 0.3867 - val_accuracy: 0.8792\n",
            "Epoch 18/32\n",
            "1875/1875 [==============================] - 7s 4ms/step - loss: 0.2804 - accuracy: 0.9011 - val_loss: 0.4501 - val_accuracy: 0.8702\n",
            "Epoch 19/32\n",
            "1875/1875 [==============================] - 7s 4ms/step - loss: 0.2741 - accuracy: 0.9029 - val_loss: 0.3806 - val_accuracy: 0.8672\n",
            "Epoch 20/32\n",
            "1875/1875 [==============================] - 7s 4ms/step - loss: 0.2839 - accuracy: 0.9005 - val_loss: 0.3994 - val_accuracy: 0.8735\n",
            "Epoch 21/32\n",
            "1875/1875 [==============================] - 8s 4ms/step - loss: 0.2747 - accuracy: 0.9038 - val_loss: 0.4009 - val_accuracy: 0.8779\n",
            "Epoch 22/32\n",
            "1875/1875 [==============================] - 7s 4ms/step - loss: 0.2665 - accuracy: 0.9050 - val_loss: 0.4555 - val_accuracy: 0.8673\n",
            "Epoch 23/32\n",
            "1875/1875 [==============================] - 8s 4ms/step - loss: 0.2685 - accuracy: 0.9044 - val_loss: 0.4086 - val_accuracy: 0.8769\n",
            "Epoch 24/32\n",
            "1875/1875 [==============================] - 8s 4ms/step - loss: 0.2602 - accuracy: 0.9069 - val_loss: 0.4233 - val_accuracy: 0.8747\n",
            "Epoch 25/32\n",
            "1875/1875 [==============================] - 7s 4ms/step - loss: 0.2666 - accuracy: 0.9065 - val_loss: 0.4034 - val_accuracy: 0.8777\n",
            "Epoch 26/32\n",
            "1875/1875 [==============================] - 7s 4ms/step - loss: 0.2583 - accuracy: 0.9082 - val_loss: 0.4042 - val_accuracy: 0.8763\n",
            "Epoch 27/32\n",
            "1875/1875 [==============================] - 8s 4ms/step - loss: 0.2539 - accuracy: 0.9097 - val_loss: 0.4236 - val_accuracy: 0.8812\n",
            "Epoch 28/32\n",
            "1875/1875 [==============================] - 8s 4ms/step - loss: 0.2577 - accuracy: 0.9098 - val_loss: 0.4055 - val_accuracy: 0.8826\n",
            "Epoch 29/32\n",
            "1875/1875 [==============================] - 8s 4ms/step - loss: 0.2715 - accuracy: 0.9068 - val_loss: 0.4347 - val_accuracy: 0.8767\n",
            "Epoch 30/32\n",
            "1875/1875 [==============================] - 7s 4ms/step - loss: 0.2463 - accuracy: 0.9131 - val_loss: 0.4647 - val_accuracy: 0.8743\n",
            "Epoch 31/32\n",
            "1875/1875 [==============================] - 7s 4ms/step - loss: 0.2428 - accuracy: 0.9136 - val_loss: 0.4766 - val_accuracy: 0.8822\n",
            "Epoch 32/32\n",
            "1875/1875 [==============================] - 7s 4ms/step - loss: 0.2606 - accuracy: 0.9111 - val_loss: 0.5579 - val_accuracy: 0.8697\n"
          ],
          "name": "stdout"
        },
        {
          "output_type": "execute_result",
          "data": {
            "text/plain": [
              "<tensorflow.python.keras.callbacks.History at 0x7f144255dc88>"
            ]
          },
          "metadata": {
            "tags": []
          },
          "execution_count": 15
        }
      ]
    },
    {
      "cell_type": "code",
      "metadata": {
        "id": "Q6H4qdtMRj-M",
        "colab_type": "code",
        "colab": {
          "base_uri": "https://localhost:8080/",
          "height": 1000
        },
        "outputId": "e66cbe75-78ba-4b86-9f90-4e2bcd53933c"
      },
      "source": [
        "''' The number of nodes in your output layer should equal the number of classes you want to predict for Fashion-MNIST. '''\n",
        "\n",
        "model = tf.keras.models.Sequential([\n",
        "                                    tf.keras.layers.Flatten(input_shape=(28,28)),\n",
        "                                    tf.keras.layers.Dense(784, activation='relu'),\n",
        "                                    tf.keras.layers.Dense(784, activation='relu'),\n",
        "                                    tf.keras.layers.Dense(784, activation='relu'),\n",
        "                                    tf.keras.layers.Dense(784, activation='relu'),\n",
        "                                    tf.keras.layers.Dense(10, activation='softmax'),\n",
        "])\n",
        "\n",
        "model.compile(loss='categorical_crossentropy', optimizer='nadam', metrics=['accuracy'])\n",
        "\n",
        "model.fit(x=xtrain, y=ytrain, epochs=32, validation_data=(xtest, ytest))"
      ],
      "execution_count": 17,
      "outputs": [
        {
          "output_type": "stream",
          "text": [
            "Epoch 1/32\n",
            "1875/1875 [==============================] - 9s 5ms/step - loss: 1.1160 - accuracy: 0.7926 - val_loss: 0.5047 - val_accuracy: 0.8134\n",
            "Epoch 2/32\n",
            "1875/1875 [==============================] - 9s 5ms/step - loss: 0.4303 - accuracy: 0.8467 - val_loss: 0.4279 - val_accuracy: 0.8457\n",
            "Epoch 3/32\n",
            "1875/1875 [==============================] - 9s 5ms/step - loss: 0.3967 - accuracy: 0.8597 - val_loss: 0.4015 - val_accuracy: 0.8570\n",
            "Epoch 4/32\n",
            "1875/1875 [==============================] - 9s 5ms/step - loss: 0.3783 - accuracy: 0.8675 - val_loss: 0.4345 - val_accuracy: 0.8553\n",
            "Epoch 5/32\n",
            "1875/1875 [==============================] - 9s 5ms/step - loss: 0.3672 - accuracy: 0.8710 - val_loss: 0.3926 - val_accuracy: 0.8632\n",
            "Epoch 6/32\n",
            "1875/1875 [==============================] - 9s 5ms/step - loss: 0.3456 - accuracy: 0.8775 - val_loss: 0.4190 - val_accuracy: 0.8596\n",
            "Epoch 7/32\n",
            "1875/1875 [==============================] - 9s 5ms/step - loss: 0.3359 - accuracy: 0.8815 - val_loss: 0.3552 - val_accuracy: 0.8787\n",
            "Epoch 8/32\n",
            "1875/1875 [==============================] - 9s 5ms/step - loss: 0.3222 - accuracy: 0.8854 - val_loss: 0.3728 - val_accuracy: 0.8737\n",
            "Epoch 9/32\n",
            "1875/1875 [==============================] - 9s 5ms/step - loss: 0.3119 - accuracy: 0.8882 - val_loss: 0.3952 - val_accuracy: 0.8684\n",
            "Epoch 10/32\n",
            "1875/1875 [==============================] - 9s 5ms/step - loss: 0.3138 - accuracy: 0.8895 - val_loss: 0.3957 - val_accuracy: 0.8712\n",
            "Epoch 11/32\n",
            "1875/1875 [==============================] - 9s 5ms/step - loss: 0.3081 - accuracy: 0.8916 - val_loss: 0.4029 - val_accuracy: 0.8774\n",
            "Epoch 12/32\n",
            "1875/1875 [==============================] - 9s 5ms/step - loss: 0.2988 - accuracy: 0.8946 - val_loss: 0.4515 - val_accuracy: 0.8640\n",
            "Epoch 13/32\n",
            "1875/1875 [==============================] - 9s 5ms/step - loss: 0.2960 - accuracy: 0.8953 - val_loss: 0.4475 - val_accuracy: 0.8597\n",
            "Epoch 14/32\n",
            "1875/1875 [==============================] - 9s 5ms/step - loss: 0.2993 - accuracy: 0.8942 - val_loss: 0.4081 - val_accuracy: 0.8713\n",
            "Epoch 15/32\n",
            "1875/1875 [==============================] - 9s 5ms/step - loss: 0.2860 - accuracy: 0.8978 - val_loss: 0.4002 - val_accuracy: 0.8759\n",
            "Epoch 16/32\n",
            "1875/1875 [==============================] - 9s 5ms/step - loss: 0.2776 - accuracy: 0.9008 - val_loss: 0.3866 - val_accuracy: 0.8796\n",
            "Epoch 17/32\n",
            "1875/1875 [==============================] - 9s 5ms/step - loss: 0.2862 - accuracy: 0.9007 - val_loss: 0.3705 - val_accuracy: 0.8779\n",
            "Epoch 18/32\n",
            "1875/1875 [==============================] - 9s 5ms/step - loss: 0.2759 - accuracy: 0.9024 - val_loss: 0.3983 - val_accuracy: 0.8792\n",
            "Epoch 19/32\n",
            "1875/1875 [==============================] - 9s 5ms/step - loss: 0.2726 - accuracy: 0.9020 - val_loss: 0.3751 - val_accuracy: 0.8788\n",
            "Epoch 20/32\n",
            "1875/1875 [==============================] - 9s 5ms/step - loss: 0.2688 - accuracy: 0.9033 - val_loss: 0.3931 - val_accuracy: 0.8861\n",
            "Epoch 21/32\n",
            "1875/1875 [==============================] - 9s 5ms/step - loss: 0.2688 - accuracy: 0.9047 - val_loss: 0.3933 - val_accuracy: 0.8768\n",
            "Epoch 22/32\n",
            "1875/1875 [==============================] - 9s 5ms/step - loss: 0.2512 - accuracy: 0.9082 - val_loss: 0.4467 - val_accuracy: 0.8797\n",
            "Epoch 23/32\n",
            "1875/1875 [==============================] - 9s 5ms/step - loss: 0.2788 - accuracy: 0.9047 - val_loss: 0.3921 - val_accuracy: 0.8813\n",
            "Epoch 24/32\n",
            "1875/1875 [==============================] - 9s 5ms/step - loss: 0.2482 - accuracy: 0.9102 - val_loss: 0.4225 - val_accuracy: 0.8819\n",
            "Epoch 25/32\n",
            "1875/1875 [==============================] - 9s 5ms/step - loss: 0.2559 - accuracy: 0.9091 - val_loss: 0.4559 - val_accuracy: 0.8864\n",
            "Epoch 26/32\n",
            "1875/1875 [==============================] - 9s 5ms/step - loss: 0.2506 - accuracy: 0.9115 - val_loss: 0.4956 - val_accuracy: 0.8800\n",
            "Epoch 27/32\n",
            "1875/1875 [==============================] - 9s 5ms/step - loss: 0.2814 - accuracy: 0.9076 - val_loss: 0.4412 - val_accuracy: 0.8806\n",
            "Epoch 28/32\n",
            "1875/1875 [==============================] - 9s 5ms/step - loss: 0.2933 - accuracy: 0.9074 - val_loss: 0.4500 - val_accuracy: 0.8736\n",
            "Epoch 29/32\n",
            "1875/1875 [==============================] - 9s 5ms/step - loss: 0.2478 - accuracy: 0.9114 - val_loss: 0.4166 - val_accuracy: 0.8791\n",
            "Epoch 30/32\n",
            "1875/1875 [==============================] - 9s 5ms/step - loss: 0.2491 - accuracy: 0.9131 - val_loss: 0.4346 - val_accuracy: 0.8831\n",
            "Epoch 31/32\n",
            "1875/1875 [==============================] - 9s 5ms/step - loss: 0.2368 - accuracy: 0.9163 - val_loss: 0.5962 - val_accuracy: 0.8753\n",
            "Epoch 32/32\n",
            "1875/1875 [==============================] - 9s 5ms/step - loss: 0.2553 - accuracy: 0.9118 - val_loss: 0.4511 - val_accuracy: 0.8760\n"
          ],
          "name": "stdout"
        },
        {
          "output_type": "execute_result",
          "data": {
            "text/plain": [
              "<tensorflow.python.keras.callbacks.History at 0x7f14420b24a8>"
            ]
          },
          "metadata": {
            "tags": []
          },
          "execution_count": 17
        }
      ]
    },
    {
      "cell_type": "code",
      "metadata": {
        "id": "2-Scju7lVuyv",
        "colab_type": "code",
        "colab": {
          "base_uri": "https://localhost:8080/",
          "height": 295
        },
        "outputId": "4ade7ae0-b94d-4463-ff05-b150bd0c7938"
      },
      "source": [
        "history = model.history.history\n",
        "plt.plot(history['loss'], label='training loss')\n",
        "plt.plot(history['val_loss'], label='validation loss')\n",
        "plt.xlabel('epochs')\n",
        "plt.ylabel('accuracy')"
      ],
      "execution_count": 18,
      "outputs": [
        {
          "output_type": "execute_result",
          "data": {
            "text/plain": [
              "Text(0, 0.5, 'accuracy')"
            ]
          },
          "metadata": {
            "tags": []
          },
          "execution_count": 18
        },
        {
          "output_type": "display_data",
          "data": {
            "image/png": "[encoded data removed]",
            "text/plain": [
              "<Figure size 432x288 with 1 Axes>"
            ]
          },
          "metadata": {
            "tags": [],
            "needs_background": "light"
          }
        }
      ]
    },
    {
      "cell_type": "code",
      "metadata": {
        "id": "ewFqUplZWfSq",
        "colab_type": "code",
        "colab": {
          "base_uri": "https://localhost:8080/",
          "height": 553
        },
        "outputId": "ab1a1730-d7bd-4eb2-bc5d-03b0d7726ca6"
      },
      "source": [
        "''' The number of nodes in your output layer should equal the number of classes you want to predict for Fashion-MNIST. '''\n",
        "\n",
        "model = tf.keras.models.Sequential([\n",
        "                                    tf.keras.layers.Flatten(input_shape=(28,28)),\n",
        "                                    tf.keras.layers.Dense(784, activation='relu'),\n",
        "                                    tf.keras.layers.Dense(784, activation='relu'),\n",
        "                                    tf.keras.layers.Dense(375, activation='relu'),\n",
        "                                    tf.keras.layers.Dense(150, activation='relu'),\n",
        "                                    tf.keras.layers.Dense(10, activation='softmax'),\n",
        "])\n",
        "\n",
        "model.compile(loss='categorical_crossentropy', optimizer='nadam', metrics=['categorical_accuracy'])\n",
        "\n",
        "model.fit(x=xtrain, y=ytrain, epochs=16, validation_data=(xtest, ytest))"
      ],
      "execution_count": 28,
      "outputs": [
        {
          "output_type": "stream",
          "text": [
            "Epoch 1/16\n",
            "1875/1875 [==============================] - 8s 4ms/step - loss: 1.1543 - categorical_accuracy: 0.8010 - val_loss: 0.4741 - val_categorical_accuracy: 0.8343\n",
            "Epoch 2/16\n",
            "1875/1875 [==============================] - 8s 4ms/step - loss: 0.4225 - categorical_accuracy: 0.8488 - val_loss: 0.4753 - val_categorical_accuracy: 0.8294\n",
            "Epoch 3/16\n",
            "1875/1875 [==============================] - 8s 4ms/step - loss: 0.3958 - categorical_accuracy: 0.8588 - val_loss: 0.3963 - val_categorical_accuracy: 0.8573\n",
            "Epoch 4/16\n",
            "1875/1875 [==============================] - 8s 4ms/step - loss: 0.3718 - categorical_accuracy: 0.8674 - val_loss: 0.4037 - val_categorical_accuracy: 0.8607\n",
            "Epoch 5/16\n",
            "1875/1875 [==============================] - 8s 4ms/step - loss: 0.3555 - categorical_accuracy: 0.8720 - val_loss: 0.3740 - val_categorical_accuracy: 0.8739\n",
            "Epoch 6/16\n",
            "1875/1875 [==============================] - 8s 4ms/step - loss: 0.3374 - categorical_accuracy: 0.8797 - val_loss: 0.4087 - val_categorical_accuracy: 0.8663\n",
            "Epoch 7/16\n",
            "1875/1875 [==============================] - 8s 4ms/step - loss: 0.3321 - categorical_accuracy: 0.8826 - val_loss: 0.3900 - val_categorical_accuracy: 0.8687\n",
            "Epoch 8/16\n",
            "1875/1875 [==============================] - 8s 4ms/step - loss: 0.3174 - categorical_accuracy: 0.8872 - val_loss: 0.3663 - val_categorical_accuracy: 0.8741\n",
            "Epoch 9/16\n",
            "1875/1875 [==============================] - 8s 4ms/step - loss: 0.3100 - categorical_accuracy: 0.8886 - val_loss: 0.4067 - val_categorical_accuracy: 0.8658\n",
            "Epoch 10/16\n",
            "1875/1875 [==============================] - 8s 4ms/step - loss: 0.3046 - categorical_accuracy: 0.8922 - val_loss: 0.4141 - val_categorical_accuracy: 0.8612\n",
            "Epoch 11/16\n",
            "1875/1875 [==============================] - 8s 4ms/step - loss: 0.2981 - categorical_accuracy: 0.8927 - val_loss: 0.3570 - val_categorical_accuracy: 0.8788\n",
            "Epoch 12/16\n",
            "1875/1875 [==============================] - 8s 4ms/step - loss: 0.2990 - categorical_accuracy: 0.8945 - val_loss: 0.3722 - val_categorical_accuracy: 0.8752\n",
            "Epoch 13/16\n",
            "1875/1875 [==============================] - 8s 4ms/step - loss: 0.2826 - categorical_accuracy: 0.8990 - val_loss: 0.3863 - val_categorical_accuracy: 0.8759\n",
            "Epoch 14/16\n",
            "1875/1875 [==============================] - 8s 4ms/step - loss: 0.2778 - categorical_accuracy: 0.8998 - val_loss: 0.3817 - val_categorical_accuracy: 0.8740\n",
            "Epoch 15/16\n",
            "1875/1875 [==============================] - 8s 4ms/step - loss: 0.2804 - categorical_accuracy: 0.9007 - val_loss: 0.4236 - val_categorical_accuracy: 0.8744\n",
            "Epoch 16/16\n",
            "1875/1875 [==============================] - 7s 4ms/step - loss: 0.2707 - categorical_accuracy: 0.9032 - val_loss: 0.4103 - val_categorical_accuracy: 0.8768\n"
          ],
          "name": "stdout"
        },
        {
          "output_type": "execute_result",
          "data": {
            "text/plain": [
              "<tensorflow.python.keras.callbacks.History at 0x7f1430cd3358>"
            ]
          },
          "metadata": {
            "tags": []
          },
          "execution_count": 28
        }
      ]
    },
    {
      "cell_type": "code",
      "metadata": {
        "id": "Uh5VvtPyY2XF",
        "colab_type": "code",
        "colab": {
          "base_uri": "https://localhost:8080/",
          "height": 295
        },
        "outputId": "6334fe2d-5abd-4f5e-a56a-db918e9866f3"
      },
      "source": [
        "history = model.history.history\n",
        "plt.plot(history['loss'], label='training loss')\n",
        "plt.plot(history['val_loss'], label='validation loss')\n",
        "plt.xlabel('epochs')\n",
        "plt.ylabel('accuracy')"
      ],
      "execution_count": 29,
      "outputs": [
        {
          "output_type": "execute_result",
          "data": {
            "text/plain": [
              "Text(0, 0.5, 'accuracy')"
            ]
          },
          "metadata": {
            "tags": []
          },
          "execution_count": 29
        },
        {
          "output_type": "display_data",
          "data": {
            "image/png": "[encoded data removed]",
            "text/plain": [
              "<Figure size 432x288 with 1 Axes>"
            ]
          },
          "metadata": {
            "tags": [],
            "needs_background": "light"
          }
        }
      ]
    },
    {
      "cell_type": "code",
      "metadata": {
        "id": "ZRszBwuNY2tw",
        "colab_type": "code",
        "colab": {}
      },
      "source": [
        ""
      ],
      "execution_count": 0,
      "outputs": []
    },
    {
      "cell_type": "markdown",
      "metadata": {
        "colab_type": "text",
        "id": "zv_3xNMjzdLI"
      },
      "source": [
        "## Stretch Goals:\n",
        "\n",
        "- Use Hyperparameter Tuning to make the accuracy of your models as high as possible. (error as low as possible)\n",
        "- Use Cross Validation techniques to get more consistent results with your model.\n",
        "- Use GridSearchCV to try different combinations of hyperparameters. \n",
        "- Start looking into other types of Keras layers for CNNs and RNNs maybe try and build a CNN model for fashion-MNIST to see how the results compare."
      ]
    }
  ]
}