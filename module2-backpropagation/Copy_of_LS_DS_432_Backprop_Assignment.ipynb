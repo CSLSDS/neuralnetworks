{
  "nbformat": 4,
  "nbformat_minor": 0,
  "metadata": {
    "colab": {
      "name": "Copy of LS_DS_432_Backprop_Assignment.ipynb",
      "provenance": [],
      "include_colab_link": true
    },
    "kernelspec": {
      "display_name": "Python 3",
      "language": "python",
      "name": "python3"
    },
    "language_info": {
      "codemirror_mode": {
        "name": "ipython",
        "version": 3
      },
      "file_extension": ".py",
      "mimetype": "text/x-python",
      "name": "python",
      "nbconvert_exporter": "python",
      "pygments_lexer": "ipython3",
      "version": "3.7.3"
    }
  },
  "cells": [
    {
      "cell_type": "markdown",
      "metadata": {
        "id": "view-in-github",
        "colab_type": "text"
      },
      "source": [
        "<a href=\"https://colab.research.google.com/github/arewelearningyet/neuralnetworks/blob/master/module2-backpropagation/Copy_of_LS_DS_432_Backprop_Assignment.ipynb\" target=\"_parent\"><img src=\"https://colab.research.google.com/assets/colab-badge.svg\" alt=\"Open In Colab\"/></a>"
      ]
    },
    {
      "cell_type": "markdown",
      "metadata": {
        "colab_type": "text",
        "id": "NGGrt9EYlCqY"
      },
      "source": [
        "<img align=\"left\" src=\"https://lever-client-logos.s3.amazonaws.com/864372b1-534c-480e-acd5-9711f850815c-1524247202159.png\" width=200>\n",
        "<br></br>\n",
        "\n",
        "# Backpropagation Practice\n",
        "\n",
        "## *Data Science Unit 4 Sprint 2 Assignment 2*\n",
        "\n",
        "Using TensorFlow Keras, Implement a 3 input, 4 node hidden-layer, 1 output node Multilayer Perceptron on the following dataset:\n",
        "\n",
        "| x1 | x2 | x3 | y |\n",
        "|----|----|----|---|\n",
        "| 0  | 0  | 1  | 0 |\n",
        "| 0  | 1  | 1  | 1 |\n",
        "| 1  | 0  | 1  | 1 |\n",
        "| 0  | 1  | 0  | 1 |\n",
        "| 1  | 0  | 0  | 1 |\n",
        "| 1  | 1  | 1  | 0 |\n",
        "| 0  | 0  | 0  | 0 |\n",
        "\n",
        "If you look at the data you'll notice that the first two columns behave like an XOR gate while the last column is mostly just noise. Remember that creating an XOR gate was what the perceptron was criticized for not being able to learn.\n",
        "\n",
        "This is your \"Hello World!\" of TensorFlow.\n",
        "\n",
        "### Example TensorFlow Starter Code\n",
        "\n",
        "```python \n",
        "from tensorflow.keras.models import Sequential\n",
        "from tensorflow.keras.layers import Dense\n",
        "\n",
        "model = Sequential([\n",
        "    Dense(3, activation='sigmoid', input_dim=2),\n",
        "    Dense(1, activation='sigmoid')\n",
        "])\n",
        "\n",
        "model.compile(optimizer='sgd', loss='binary_crossentropy', metrics=['acc'])\n",
        "\n",
        "results = model.fit(X,y, epochs=100)\n",
        "\n",
        "```\n",
        "\n",
        "### Additional Written Tasks:\n",
        "1. Investigate the various [loss functions](https://www.tensorflow.org/api_docs/python/tf/keras/losses). Which is best suited for the task at hand (predicting 1 / 0) and why? \n",
        "2. What is the difference between a loss function and a metric? Why might we need both in Keras? \n",
        "3. Investigate the various [optimizers](https://www.tensorflow.org/api_docs/python/tf/keras/optimizers). Stochastic Gradient Descent (`sgd`) is not the learning algorithm dejour anyone. Why is that? What do newer optimizers such as `adam` have to offer? "
      ]
    },
    {
      "cell_type": "code",
      "metadata": {
        "id": "gGsyqsIo_Ynf",
        "colab_type": "code",
        "colab": {}
      },
      "source": [
        "\n"
      ],
      "execution_count": 0,
      "outputs": []
    },
    {
      "cell_type": "code",
      "metadata": {
        "id": "1B7DM51Gxl_u",
        "colab_type": "code",
        "colab": {}
      },
      "source": [
        "import pandas as pd\n",
        "\n",
        "data = {'x1': [0,0,1,0,1,1,0],\n",
        "        'x2': [0,1,0,1,0,1,0],\n",
        "        'x3': [1,1,1,0,0,1,0],\n",
        "        'y':  [0,1,1,1,1,0,0]}\n",
        "\n",
        "df = pd.DataFrame.from_dict(data).astype('int')\n",
        "X = df[['x1', 'x2', 'x3']].values\n",
        "y = df['y'].values"
      ],
      "execution_count": 0,
      "outputs": []
    },
    {
      "cell_type": "code",
      "metadata": {
        "id": "gt7UhOVhytUW",
        "colab_type": "code",
        "colab": {
          "base_uri": "https://localhost:8080/",
          "height": 34
        },
        "outputId": "2e8ac0ff-4250-4d61-de0d-70db95a3b5b0"
      },
      "source": [
        "X.shape"
      ],
      "execution_count": 14,
      "outputs": [
        {
          "output_type": "execute_result",
          "data": {
            "text/plain": [
              "(7, 3)"
            ]
          },
          "metadata": {
            "tags": []
          },
          "execution_count": 14
        }
      ]
    },
    {
      "cell_type": "code",
      "metadata": {
        "id": "X0v4Xcw2y7QO",
        "colab_type": "code",
        "colab": {
          "base_uri": "https://localhost:8080/",
          "height": 34
        },
        "outputId": "7ada8b1c-520d-46f4-d4b7-58d10dc91283"
      },
      "source": [
        "y.shape"
      ],
      "execution_count": 15,
      "outputs": [
        {
          "output_type": "execute_result",
          "data": {
            "text/plain": [
              "(7,)"
            ]
          },
          "metadata": {
            "tags": []
          },
          "execution_count": 15
        }
      ]
    },
    {
      "cell_type": "code",
      "metadata": {
        "colab_type": "code",
        "id": "nEREYT-3wI1f",
        "colab": {
          "base_uri": "https://localhost:8080/",
          "height": 1000
        },
        "outputId": "3c259f6c-1319-442e-e791-a9c52415b739"
      },
      "source": [
        "from tensorflow.keras.models import Sequential\n",
        "from tensorflow.keras.layers import Dense\n",
        "\n",
        "model = Sequential([\n",
        "                    Dense(4, activation='relu', input_dim=3),\n",
        "                    Dense(4, activation='relu'),\n",
        "                    Dense(1, activation='softmax')\n",
        "])\n",
        "\n",
        "model.compile(optimizer='adam', loss='binary_crossentropy', metrics=['accuracy'])\n",
        "\n",
        "results = model.fit(X,y, epochs=100)"
      ],
      "execution_count": 25,
      "outputs": [
        {
          "output_type": "stream",
          "text": [
            "Epoch 1/100\n",
            "1/1 [==============================] - 0s 1ms/step - loss: 6.5354 - accuracy: 0.5714\n",
            "Epoch 2/100\n",
            "1/1 [==============================] - 0s 1ms/step - loss: 6.5354 - accuracy: 0.5714\n",
            "Epoch 3/100\n",
            "1/1 [==============================] - 0s 2ms/step - loss: 6.5354 - accuracy: 0.5714\n",
            "Epoch 4/100\n",
            "1/1 [==============================] - 0s 1ms/step - loss: 6.5354 - accuracy: 0.5714\n",
            "Epoch 5/100\n",
            "1/1 [==============================] - 0s 1ms/step - loss: 6.5354 - accuracy: 0.5714\n",
            "Epoch 6/100\n",
            "1/1 [==============================] - 0s 1ms/step - loss: 6.5354 - accuracy: 0.5714\n",
            "Epoch 7/100\n",
            "1/1 [==============================] - 0s 1ms/step - loss: 6.5354 - accuracy: 0.5714\n",
            "Epoch 8/100\n",
            "1/1 [==============================] - 0s 3ms/step - loss: 6.5354 - accuracy: 0.5714\n",
            "Epoch 9/100\n",
            "1/1 [==============================] - 0s 3ms/step - loss: 6.5354 - accuracy: 0.5714\n",
            "Epoch 10/100\n",
            "1/1 [==============================] - 0s 3ms/step - loss: 6.5354 - accuracy: 0.5714\n",
            "Epoch 11/100\n",
            "1/1 [==============================] - 0s 2ms/step - loss: 6.5354 - accuracy: 0.5714\n",
            "Epoch 12/100\n",
            "1/1 [==============================] - 0s 1ms/step - loss: 6.5354 - accuracy: 0.5714\n",
            "Epoch 13/100\n",
            "1/1 [==============================] - 0s 1ms/step - loss: 6.5354 - accuracy: 0.5714\n",
            "Epoch 14/100\n",
            "1/1 [==============================] - 0s 1ms/step - loss: 6.5354 - accuracy: 0.5714\n",
            "Epoch 15/100\n",
            "1/1 [==============================] - 0s 2ms/step - loss: 6.5354 - accuracy: 0.5714\n",
            "Epoch 16/100\n",
            "1/1 [==============================] - 0s 2ms/step - loss: 6.5354 - accuracy: 0.5714\n",
            "Epoch 17/100\n",
            "1/1 [==============================] - 0s 1ms/step - loss: 6.5354 - accuracy: 0.5714\n",
            "Epoch 18/100\n",
            "1/1 [==============================] - 0s 2ms/step - loss: 6.5354 - accuracy: 0.5714\n",
            "Epoch 19/100\n",
            "1/1 [==============================] - 0s 1ms/step - loss: 6.5354 - accuracy: 0.5714\n",
            "Epoch 20/100\n",
            "1/1 [==============================] - 0s 2ms/step - loss: 6.5354 - accuracy: 0.5714\n",
            "Epoch 21/100\n",
            "1/1 [==============================] - 0s 2ms/step - loss: 6.5354 - accuracy: 0.5714\n",
            "Epoch 22/100\n",
            "1/1 [==============================] - 0s 1ms/step - loss: 6.5354 - accuracy: 0.5714\n",
            "Epoch 23/100\n",
            "1/1 [==============================] - 0s 2ms/step - loss: 6.5354 - accuracy: 0.5714\n",
            "Epoch 24/100\n",
            "1/1 [==============================] - 0s 2ms/step - loss: 6.5354 - accuracy: 0.5714\n",
            "Epoch 25/100\n",
            "1/1 [==============================] - 0s 2ms/step - loss: 6.5354 - accuracy: 0.5714\n",
            "Epoch 26/100\n",
            "1/1 [==============================] - 0s 2ms/step - loss: 6.5354 - accuracy: 0.5714\n",
            "Epoch 27/100\n",
            "1/1 [==============================] - 0s 2ms/step - loss: 6.5354 - accuracy: 0.5714\n",
            "Epoch 28/100\n",
            "1/1 [==============================] - 0s 2ms/step - loss: 6.5354 - accuracy: 0.5714\n",
            "Epoch 29/100\n",
            "1/1 [==============================] - 0s 2ms/step - loss: 6.5354 - accuracy: 0.5714\n",
            "Epoch 30/100\n",
            "1/1 [==============================] - 0s 2ms/step - loss: 6.5354 - accuracy: 0.5714\n",
            "Epoch 31/100\n",
            "1/1 [==============================] - 0s 2ms/step - loss: 6.5354 - accuracy: 0.5714\n",
            "Epoch 32/100\n",
            "1/1 [==============================] - 0s 2ms/step - loss: 6.5354 - accuracy: 0.5714\n",
            "Epoch 33/100\n",
            "1/1 [==============================] - 0s 1ms/step - loss: 6.5354 - accuracy: 0.5714\n",
            "Epoch 34/100\n",
            "1/1 [==============================] - 0s 2ms/step - loss: 6.5354 - accuracy: 0.5714\n",
            "Epoch 35/100\n",
            "1/1 [==============================] - 0s 2ms/step - loss: 6.5354 - accuracy: 0.5714\n",
            "Epoch 36/100\n",
            "1/1 [==============================] - 0s 2ms/step - loss: 6.5354 - accuracy: 0.5714\n",
            "Epoch 37/100\n",
            "1/1 [==============================] - 0s 2ms/step - loss: 6.5354 - accuracy: 0.5714\n",
            "Epoch 38/100\n",
            "1/1 [==============================] - 0s 3ms/step - loss: 6.5354 - accuracy: 0.5714\n",
            "Epoch 39/100\n",
            "1/1 [==============================] - 0s 3ms/step - loss: 6.5354 - accuracy: 0.5714\n",
            "Epoch 40/100\n",
            "1/1 [==============================] - 0s 2ms/step - loss: 6.5354 - accuracy: 0.5714\n",
            "Epoch 41/100\n",
            "1/1 [==============================] - 0s 2ms/step - loss: 6.5354 - accuracy: 0.5714\n",
            "Epoch 42/100\n",
            "1/1 [==============================] - 0s 2ms/step - loss: 6.5354 - accuracy: 0.5714\n",
            "Epoch 43/100\n",
            "1/1 [==============================] - 0s 2ms/step - loss: 6.5354 - accuracy: 0.5714\n",
            "Epoch 44/100\n",
            "1/1 [==============================] - 0s 2ms/step - loss: 6.5354 - accuracy: 0.5714\n",
            "Epoch 45/100\n",
            "1/1 [==============================] - 0s 2ms/step - loss: 6.5354 - accuracy: 0.5714\n",
            "Epoch 46/100\n",
            "1/1 [==============================] - 0s 2ms/step - loss: 6.5354 - accuracy: 0.5714\n",
            "Epoch 47/100\n",
            "1/1 [==============================] - 0s 2ms/step - loss: 6.5354 - accuracy: 0.5714\n",
            "Epoch 48/100\n",
            "1/1 [==============================] - 0s 2ms/step - loss: 6.5354 - accuracy: 0.5714\n",
            "Epoch 49/100\n",
            "1/1 [==============================] - 0s 2ms/step - loss: 6.5354 - accuracy: 0.5714\n",
            "Epoch 50/100\n",
            "1/1 [==============================] - 0s 2ms/step - loss: 6.5354 - accuracy: 0.5714\n",
            "Epoch 51/100\n",
            "1/1 [==============================] - 0s 3ms/step - loss: 6.5354 - accuracy: 0.5714\n",
            "Epoch 52/100\n",
            "1/1 [==============================] - 0s 2ms/step - loss: 6.5354 - accuracy: 0.5714\n",
            "Epoch 53/100\n",
            "1/1 [==============================] - 0s 2ms/step - loss: 6.5354 - accuracy: 0.5714\n",
            "Epoch 54/100\n",
            "1/1 [==============================] - 0s 2ms/step - loss: 6.5354 - accuracy: 0.5714\n",
            "Epoch 55/100\n",
            "1/1 [==============================] - 0s 2ms/step - loss: 6.5354 - accuracy: 0.5714\n",
            "Epoch 56/100\n",
            "1/1 [==============================] - 0s 2ms/step - loss: 6.5354 - accuracy: 0.5714\n",
            "Epoch 57/100\n",
            "1/1 [==============================] - 0s 2ms/step - loss: 6.5354 - accuracy: 0.5714\n",
            "Epoch 58/100\n",
            "1/1 [==============================] - 0s 2ms/step - loss: 6.5354 - accuracy: 0.5714\n",
            "Epoch 59/100\n",
            "1/1 [==============================] - 0s 2ms/step - loss: 6.5354 - accuracy: 0.5714\n",
            "Epoch 60/100\n",
            "1/1 [==============================] - 0s 2ms/step - loss: 6.5354 - accuracy: 0.5714\n",
            "Epoch 61/100\n",
            "1/1 [==============================] - 0s 2ms/step - loss: 6.5354 - accuracy: 0.5714\n",
            "Epoch 62/100\n",
            "1/1 [==============================] - 0s 2ms/step - loss: 6.5354 - accuracy: 0.5714\n",
            "Epoch 63/100\n",
            "1/1 [==============================] - 0s 2ms/step - loss: 6.5354 - accuracy: 0.5714\n",
            "Epoch 64/100\n",
            "1/1 [==============================] - 0s 2ms/step - loss: 6.5354 - accuracy: 0.5714\n",
            "Epoch 65/100\n",
            "1/1 [==============================] - 0s 2ms/step - loss: 6.5354 - accuracy: 0.5714\n",
            "Epoch 66/100\n",
            "1/1 [==============================] - 0s 2ms/step - loss: 6.5354 - accuracy: 0.5714\n",
            "Epoch 67/100\n",
            "1/1 [==============================] - 0s 3ms/step - loss: 6.5354 - accuracy: 0.5714\n",
            "Epoch 68/100\n",
            "1/1 [==============================] - 0s 1ms/step - loss: 6.5354 - accuracy: 0.5714\n",
            "Epoch 69/100\n",
            "1/1 [==============================] - 0s 2ms/step - loss: 6.5354 - accuracy: 0.5714\n",
            "Epoch 70/100\n",
            "1/1 [==============================] - 0s 2ms/step - loss: 6.5354 - accuracy: 0.5714\n",
            "Epoch 71/100\n",
            "1/1 [==============================] - 0s 2ms/step - loss: 6.5354 - accuracy: 0.5714\n",
            "Epoch 72/100\n",
            "1/1 [==============================] - 0s 2ms/step - loss: 6.5354 - accuracy: 0.5714\n",
            "Epoch 73/100\n",
            "1/1 [==============================] - 0s 2ms/step - loss: 6.5354 - accuracy: 0.5714\n",
            "Epoch 74/100\n",
            "1/1 [==============================] - 0s 3ms/step - loss: 6.5354 - accuracy: 0.5714\n",
            "Epoch 75/100\n",
            "1/1 [==============================] - 0s 2ms/step - loss: 6.5354 - accuracy: 0.5714\n",
            "Epoch 76/100\n",
            "1/1 [==============================] - 0s 2ms/step - loss: 6.5354 - accuracy: 0.5714\n",
            "Epoch 77/100\n",
            "1/1 [==============================] - 0s 2ms/step - loss: 6.5354 - accuracy: 0.5714\n",
            "Epoch 78/100\n",
            "1/1 [==============================] - 0s 2ms/step - loss: 6.5354 - accuracy: 0.5714\n",
            "Epoch 79/100\n",
            "1/1 [==============================] - 0s 2ms/step - loss: 6.5354 - accuracy: 0.5714\n",
            "Epoch 80/100\n",
            "1/1 [==============================] - 0s 2ms/step - loss: 6.5354 - accuracy: 0.5714\n",
            "Epoch 81/100\n",
            "1/1 [==============================] - 0s 2ms/step - loss: 6.5354 - accuracy: 0.5714\n",
            "Epoch 82/100\n",
            "1/1 [==============================] - 0s 2ms/step - loss: 6.5354 - accuracy: 0.5714\n",
            "Epoch 83/100\n",
            "1/1 [==============================] - 0s 2ms/step - loss: 6.5354 - accuracy: 0.5714\n",
            "Epoch 84/100\n",
            "1/1 [==============================] - 0s 2ms/step - loss: 6.5354 - accuracy: 0.5714\n",
            "Epoch 85/100\n",
            "1/1 [==============================] - 0s 2ms/step - loss: 6.5354 - accuracy: 0.5714\n",
            "Epoch 86/100\n",
            "1/1 [==============================] - 0s 2ms/step - loss: 6.5354 - accuracy: 0.5714\n",
            "Epoch 87/100\n",
            "1/1 [==============================] - 0s 3ms/step - loss: 6.5354 - accuracy: 0.5714\n",
            "Epoch 88/100\n",
            "1/1 [==============================] - 0s 2ms/step - loss: 6.5354 - accuracy: 0.5714\n",
            "Epoch 89/100\n",
            "1/1 [==============================] - 0s 2ms/step - loss: 6.5354 - accuracy: 0.5714\n",
            "Epoch 90/100\n",
            "1/1 [==============================] - 0s 2ms/step - loss: 6.5354 - accuracy: 0.5714\n",
            "Epoch 91/100\n",
            "1/1 [==============================] - 0s 2ms/step - loss: 6.5354 - accuracy: 0.5714\n",
            "Epoch 92/100\n",
            "1/1 [==============================] - 0s 2ms/step - loss: 6.5354 - accuracy: 0.5714\n",
            "Epoch 93/100\n",
            "1/1 [==============================] - 0s 2ms/step - loss: 6.5354 - accuracy: 0.5714\n",
            "Epoch 94/100\n",
            "1/1 [==============================] - 0s 2ms/step - loss: 6.5354 - accuracy: 0.5714\n",
            "Epoch 95/100\n",
            "1/1 [==============================] - 0s 2ms/step - loss: 6.5354 - accuracy: 0.5714\n",
            "Epoch 96/100\n",
            "1/1 [==============================] - 0s 3ms/step - loss: 6.5354 - accuracy: 0.5714\n",
            "Epoch 97/100\n",
            "1/1 [==============================] - 0s 2ms/step - loss: 6.5354 - accuracy: 0.5714\n",
            "Epoch 98/100\n",
            "1/1 [==============================] - 0s 2ms/step - loss: 6.5354 - accuracy: 0.5714\n",
            "Epoch 99/100\n",
            "1/1 [==============================] - 0s 2ms/step - loss: 6.5354 - accuracy: 0.5714\n",
            "Epoch 100/100\n",
            "1/1 [==============================] - 0s 2ms/step - loss: 6.5354 - accuracy: 0.5714\n"
          ],
          "name": "stdout"
        }
      ]
    },
    {
      "cell_type": "markdown",
      "metadata": {
        "id": "5qvjhajc_Ynz",
        "colab_type": "text"
      },
      "source": [
        "### Build a Tensor Keras Perceptron\n",
        "\n",
        "Try to match the architecture we used on Monday - inputs nodes and one output node. Apply this architecture to the XOR-ish dataset above. \n",
        "\n",
        "After fitting your model answer these questions: \n",
        "\n",
        "Are you able to achieve the same results as a bigger architecture from the first part of the assignment? Why is this disparity the case? What properties of the XOR dataset would cause this disparity? \n",
        "\n",
        "Now extrapolate this behavior on a much larger dataset in terms of features. What kind of architecture decisions could we make to avoid the problems the XOR dataset presents at scale? \n",
        "\n",
        "*Note:* The bias term is baked in by default in the Dense layer."
      ]
    },
    {
      "cell_type": "code",
      "metadata": {
        "id": "hiBq3fgv_Yn0",
        "colab_type": "code",
        "colab": {}
      },
      "source": [
        "### Compare "
      ],
      "execution_count": 0,
      "outputs": []
    },
    {
      "cell_type": "markdown",
      "metadata": {
        "colab_type": "text",
        "id": "8b-r70o8p2Dm"
      },
      "source": [
        "## Try building/training a more complex MLP on a bigger dataset.\n",
        "\n",
        "Use TensorFlow Keras & the [MNIST dataset](http://yann.lecun.com/exdb/mnist/) to build the canonical handwriting digit recognizer and see what kind of accuracy you can achieve. \n",
        "\n",
        "If you need inspiration, the Internet is chalk-full of tutorials, but I want you to see how far you can get on your own first. I've linked to the original MNIST dataset above but it will probably be easier to download data through a neural network library. If you reference outside resources make sure you understand every line of code that you're using from other sources, and share with your fellow students helpful resources that you find.\n",
        "\n",
        "\n",
        "### Parts\n",
        "1. Gathering & Transforming the Data\n",
        "2. Making MNIST a Binary Problem\n",
        "3. Estimating your Neural Network (the part you focus on)"
      ]
    },
    {
      "cell_type": "markdown",
      "metadata": {
        "id": "2UiBxXCx_Yn8",
        "colab_type": "text"
      },
      "source": [
        "### Gathering the Data \n",
        "\n",
        "`keras` has a handy method to pull the mnist dataset for you. You'll notice that each observation is a 28x28 arrary which represents an image. Although most Neural Network frameworks can handle higher dimensional data, that is more overhead than necessary for us. We need to flatten the image to one long row which will be 784 values (28X28). Basically, you will be appending each row to one another to make on really long row. "
      ]
    },
    {
      "cell_type": "code",
      "metadata": {
        "id": "W7dgowZa_Yn8",
        "colab_type": "code",
        "colab": {}
      },
      "source": [
        "import numpy as np\n",
        "from tensorflow.keras.datasets import mnist\n",
        "from tensorflow.keras.utils import to_categorical"
      ],
      "execution_count": 0,
      "outputs": []
    },
    {
      "cell_type": "code",
      "metadata": {
        "id": "kNORv8Tn_YoB",
        "colab_type": "code",
        "colab": {}
      },
      "source": [
        "# input image dimensions\n",
        "img_rows, img_cols = 28, 28"
      ],
      "execution_count": 0,
      "outputs": []
    },
    {
      "cell_type": "code",
      "metadata": {
        "id": "8sxLLAFG_YoN",
        "colab_type": "code",
        "colab": {
          "base_uri": "https://localhost:8080/",
          "height": 51
        },
        "outputId": "495eb41a-3643-4a44-a044-218aadff1880"
      },
      "source": [
        "# the data, split between train and test sets\n",
        "(x_train, y_train), (x_test, y_test) = mnist.load_data()"
      ],
      "execution_count": 28,
      "outputs": [
        {
          "output_type": "stream",
          "text": [
            "Downloading data from https://storage.googleapis.com/tensorflow/tf-keras-datasets/mnist.npz\n",
            "11493376/11490434 [==============================] - 0s 0us/step\n"
          ],
          "name": "stdout"
        }
      ]
    },
    {
      "cell_type": "code",
      "metadata": {
        "id": "yo4AweEl_Yod",
        "colab_type": "code",
        "colab": {}
      },
      "source": [
        "x_train = x_train.reshape(x_train.shape[0], img_rows * img_cols)\n",
        "x_test = x_test.reshape(x_test.shape[0], img_rows * img_cols)\n",
        "\n",
        "# Normalize Our Data\n",
        "x_train = x_train / 255\n",
        "x_test = x_test / 255"
      ],
      "execution_count": 0,
      "outputs": []
    },
    {
      "cell_type": "code",
      "metadata": {
        "id": "Ngb-0OGj_Yoi",
        "colab_type": "code",
        "outputId": "fd9eca63-cce2-44b6-91cb-57914b750dc9",
        "colab": {
          "base_uri": "https://localhost:8080/",
          "height": 34
        }
      },
      "source": [
        "# Now the data should be in a format you're more familiar with\n",
        "x_train.shape"
      ],
      "execution_count": 30,
      "outputs": [
        {
          "output_type": "execute_result",
          "data": {
            "text/plain": [
              "(60000, 784)"
            ]
          },
          "metadata": {
            "tags": []
          },
          "execution_count": 30
        }
      ]
    },
    {
      "cell_type": "markdown",
      "metadata": {
        "id": "VU64KLWG_Yoo",
        "colab_type": "text"
      },
      "source": [
        "### Making MNIST a Binary Problem \n",
        "MNIST is multiclass classification problem; however we haven't covered all the necessary techniques to handle this yet. You would need to one-hot encode the target, use a different loss metric, and use softmax activations for the last layer. This is all stuff we'll cover later this week, but let us simplify the problem for now: Zero or all else."
      ]
    },
    {
      "cell_type": "code",
      "metadata": {
        "id": "YWrsd3aT_Yoq",
        "colab_type": "code",
        "colab": {}
      },
      "source": [
        "import numpy as np\n",
        "\n",
        "y_temp = np.zeros(y_train.shape)\n",
        "y_temp[np.where(y_train == 0.0)[0]] = 1\n",
        "y_train = y_temp\n",
        "\n",
        "y_temp = np.zeros(y_test.shape)\n",
        "y_temp[np.where(y_test == 0.0)[0]] = 1\n",
        "y_test = y_temp"
      ],
      "execution_count": 0,
      "outputs": []
    },
    {
      "cell_type": "code",
      "metadata": {
        "id": "Mqb6Q6mP_You",
        "colab_type": "code",
        "outputId": "2e5874ba-0a10-483c-fff8-d287ca52ce02",
        "colab": {
          "base_uri": "https://localhost:8080/",
          "height": 34
        }
      },
      "source": [
        "# A Nice Binary target for ya to work with\n",
        "y_train"
      ],
      "execution_count": 32,
      "outputs": [
        {
          "output_type": "execute_result",
          "data": {
            "text/plain": [
              "array([0., 1., 0., ..., 0., 0., 0.])"
            ]
          },
          "metadata": {
            "tags": []
          },
          "execution_count": 32
        }
      ]
    },
    {
      "cell_type": "markdown",
      "metadata": {
        "id": "9GjMh_b7_Yo5",
        "colab_type": "text"
      },
      "source": [
        "### Estimating Your `net\n",
        "\n",
        "**The hardest portion of this assignment is following the Numpy shapes in the backprop function**\n",
        "\n"
      ]
    },
    {
      "cell_type": "code",
      "metadata": {
        "colab_type": "code",
        "id": "5MOPtYdk1HgA",
        "colab": {}
      },
      "source": [
        "##### Your Code Here #####\n",
        "\n",
        "class NeuralNetwork:\n",
        "    def __init__(self):\n",
        "        # Set up Architecture of Neural Network\n",
        "        self.inputs = 784\n",
        "        self.hiddenNodes = 128\n",
        "        self.outputNodes = 1\n",
        "\n",
        "        # Initial Weights\n",
        "        # 3x3 Matrix Array for the First Layer\n",
        "        self.weights1 = np.random.rand(self.inputs, self.hiddenNodes)\n",
        "       \n",
        "        # 3x1 Matrix Array for Hidden to Output\n",
        "        self.weights2 = np.random.rand(self.hiddenNodes, self.outputNodes)\n",
        "        \n",
        "    def sigmoid(self, s):\n",
        "        return 1 / (1+np.exp(-s))\n",
        "    \n",
        "    def sigmoidPrime(self, s):\n",
        "        return s * (1 - s)\n",
        "    \n",
        "    def feed_forward(self, X):\n",
        "        \"\"\"\n",
        "        Calculate the NN inference using feed forward.\n",
        "        aka \"predict\"\n",
        "        \"\"\"\n",
        "        \n",
        "        # Weighted sum of inputs => hidden layer\n",
        "        self.hidden_sum = np.dot(X, self.weights1)\n",
        "        \n",
        "        # Activations of weighted sum\n",
        "        self.activated_hidden = self.sigmoid(self.hidden_sum)\n",
        "        \n",
        "        # Weight sum between hidden and output\n",
        "        self.output_sum = np.dot(self.activated_hidden, self.weights2)\n",
        "        \n",
        "        # Final activation of output\n",
        "        self.activated_output = self.sigmoid(self.output_sum)\n",
        "        \n",
        "        return self.activated_output\n",
        "        \n",
        "    def backward(self, X,y,o):\n",
        "        \"\"\"\n",
        "        Backward propagate through the network\n",
        "        \"\"\"\n",
        "        \n",
        "        # Error in Output\n",
        "        # Categorical Cross Entropy - Would a function to do this. \n",
        "        self.o_error = y - o\n",
        "        \n",
        "        # Apply Derivative of Sigmoid to error\n",
        "        # How far off are we in relation to the Sigmoid f(x) of the output\n",
        "        # ^- aka hidden => output\n",
        "        self.o_delta = self.o_error * self.sigmoidPrime(o)\n",
        "        \n",
        "        # z2 error\n",
        "        self.o_delta = np.expand_dims(self.o_delta, axis=1)\n",
        "        self.z2_error = self.o_delta * self.weights2.T\n",
        "        \n",
        "        # How much of that \"far off\" can explained by the input => hidden\n",
        "        self.z2_delta = self.z2_error * self.sigmoidPrime(self.activated_hidden)\n",
        "        \n",
        "        # Adjustment to first set of weights (input => hidden)\n",
        "        self.weights1 += X.T.dot(self.z2_delta)\n",
        "        # Adjustment to second set of weights (hidden => output)\n",
        "        self.weights2 += self.activated_hidden.T.dot(self.o_delta)\n",
        "        \n",
        "\n",
        "    def train(self, X, y):\n",
        "        o = self.feed_forward(X)[:,0]\n",
        "        self.backward(X,y,o)"
      ],
      "execution_count": 0,
      "outputs": []
    },
    {
      "cell_type": "code",
      "metadata": {
        "id": "EUVNkq6L_YpK",
        "colab_type": "code",
        "outputId": "f1d42e33-d6fa-49a6-a642-1161d082a244",
        "colab": {
          "base_uri": "https://localhost:8080/",
          "height": 680
        }
      },
      "source": [
        "nn = NeuralNetwork()\n",
        "\n",
        "# Number of Epochs / Iterations\n",
        "for i in range(10000):\n",
        "    if (i+1 in [1,2,3,4,5]) or ((i+1) % 1000 ==0):\n",
        "        print('+' + '---' * 3 + f'EPOCH {i+1}' + '---'*3 + '+')\n",
        "        print(\"Loss: \\n\", str(np.mean(np.square(y_test- nn.feed_forward(x_test)))))\n",
        "    nn.train(x_train[:500],y_train[:500])"
      ],
      "execution_count": 41,
      "outputs": [
        {
          "output_type": "stream",
          "text": [
            "+---------EPOCH 1---------+\n",
            "Loss: \n",
            " 0.902\n",
            "+---------EPOCH 2---------+\n",
            "Loss: \n",
            " 0.902\n",
            "+---------EPOCH 3---------+\n",
            "Loss: \n",
            " 0.902\n",
            "+---------EPOCH 4---------+\n",
            "Loss: \n",
            " 0.902\n",
            "+---------EPOCH 5---------+\n",
            "Loss: \n",
            " 0.902\n",
            "+---------EPOCH 1000---------+\n",
            "Loss: \n",
            " 0.902\n"
          ],
          "name": "stdout"
        },
        {
          "output_type": "error",
          "ename": "KeyboardInterrupt",
          "evalue": "ignored",
          "traceback": [
            "\u001b[0;31m---------------------------------------------------------------------------\u001b[0m",
            "\u001b[0;31mKeyboardInterrupt\u001b[0m                         Traceback (most recent call last)",
            "\u001b[0;32m<ipython-input-41-b3bf67904600>\u001b[0m in \u001b[0;36m<module>\u001b[0;34m()\u001b[0m\n\u001b[1;32m      6\u001b[0m         \u001b[0mprint\u001b[0m\u001b[0;34m(\u001b[0m\u001b[0;34m'+'\u001b[0m \u001b[0;34m+\u001b[0m \u001b[0;34m'---'\u001b[0m \u001b[0;34m*\u001b[0m \u001b[0;36m3\u001b[0m \u001b[0;34m+\u001b[0m \u001b[0;34mf'EPOCH {i+1}'\u001b[0m \u001b[0;34m+\u001b[0m \u001b[0;34m'---'\u001b[0m\u001b[0;34m*\u001b[0m\u001b[0;36m3\u001b[0m \u001b[0;34m+\u001b[0m \u001b[0;34m'+'\u001b[0m\u001b[0;34m)\u001b[0m\u001b[0;34m\u001b[0m\u001b[0;34m\u001b[0m\u001b[0m\n\u001b[1;32m      7\u001b[0m         \u001b[0mprint\u001b[0m\u001b[0;34m(\u001b[0m\u001b[0;34m\"Loss: \\n\"\u001b[0m\u001b[0;34m,\u001b[0m \u001b[0mstr\u001b[0m\u001b[0;34m(\u001b[0m\u001b[0mnp\u001b[0m\u001b[0;34m.\u001b[0m\u001b[0mmean\u001b[0m\u001b[0;34m(\u001b[0m\u001b[0mnp\u001b[0m\u001b[0;34m.\u001b[0m\u001b[0msquare\u001b[0m\u001b[0;34m(\u001b[0m\u001b[0my_test\u001b[0m\u001b[0;34m-\u001b[0m \u001b[0mnn\u001b[0m\u001b[0;34m.\u001b[0m\u001b[0mfeed_forward\u001b[0m\u001b[0;34m(\u001b[0m\u001b[0mx_test\u001b[0m\u001b[0;34m)\u001b[0m\u001b[0;34m)\u001b[0m\u001b[0;34m)\u001b[0m\u001b[0;34m)\u001b[0m\u001b[0;34m)\u001b[0m\u001b[0;34m\u001b[0m\u001b[0;34m\u001b[0m\u001b[0m\n\u001b[0;32m----> 8\u001b[0;31m     \u001b[0mnn\u001b[0m\u001b[0;34m.\u001b[0m\u001b[0mtrain\u001b[0m\u001b[0;34m(\u001b[0m\u001b[0mx_train\u001b[0m\u001b[0;34m[\u001b[0m\u001b[0;34m:\u001b[0m\u001b[0;36m500\u001b[0m\u001b[0;34m]\u001b[0m\u001b[0;34m,\u001b[0m\u001b[0my_train\u001b[0m\u001b[0;34m[\u001b[0m\u001b[0;34m:\u001b[0m\u001b[0;36m500\u001b[0m\u001b[0;34m]\u001b[0m\u001b[0;34m)\u001b[0m\u001b[0;34m\u001b[0m\u001b[0;34m\u001b[0m\u001b[0m\n\u001b[0m",
            "\u001b[0;32m<ipython-input-40-e3bfdc73c1f5>\u001b[0m in \u001b[0;36mtrain\u001b[0;34m(self, X, y)\u001b[0m\n\u001b[1;32m     68\u001b[0m \u001b[0;34m\u001b[0m\u001b[0m\n\u001b[1;32m     69\u001b[0m     \u001b[0;32mdef\u001b[0m \u001b[0mtrain\u001b[0m\u001b[0;34m(\u001b[0m\u001b[0mself\u001b[0m\u001b[0;34m,\u001b[0m \u001b[0mX\u001b[0m\u001b[0;34m,\u001b[0m \u001b[0my\u001b[0m\u001b[0;34m)\u001b[0m\u001b[0;34m:\u001b[0m\u001b[0;34m\u001b[0m\u001b[0;34m\u001b[0m\u001b[0m\n\u001b[0;32m---> 70\u001b[0;31m         \u001b[0mo\u001b[0m \u001b[0;34m=\u001b[0m \u001b[0mself\u001b[0m\u001b[0;34m.\u001b[0m\u001b[0mfeed_forward\u001b[0m\u001b[0;34m(\u001b[0m\u001b[0mX\u001b[0m\u001b[0;34m)\u001b[0m\u001b[0;34m[\u001b[0m\u001b[0;34m:\u001b[0m\u001b[0;34m,\u001b[0m\u001b[0;36m0\u001b[0m\u001b[0;34m]\u001b[0m\u001b[0;34m\u001b[0m\u001b[0;34m\u001b[0m\u001b[0m\n\u001b[0m\u001b[1;32m     71\u001b[0m         \u001b[0mself\u001b[0m\u001b[0;34m.\u001b[0m\u001b[0mbackward\u001b[0m\u001b[0;34m(\u001b[0m\u001b[0mX\u001b[0m\u001b[0;34m,\u001b[0m\u001b[0my\u001b[0m\u001b[0;34m,\u001b[0m\u001b[0mo\u001b[0m\u001b[0;34m)\u001b[0m\u001b[0;34m\u001b[0m\u001b[0;34m\u001b[0m\u001b[0m\n",
            "\u001b[0;32m<ipython-input-40-e3bfdc73c1f5>\u001b[0m in \u001b[0;36mfeed_forward\u001b[0;34m(self, X)\u001b[0m\n\u001b[1;32m     27\u001b[0m \u001b[0;34m\u001b[0m\u001b[0m\n\u001b[1;32m     28\u001b[0m         \u001b[0;31m# Weighted sum of inputs => hidden layer\u001b[0m\u001b[0;34m\u001b[0m\u001b[0;34m\u001b[0m\u001b[0;34m\u001b[0m\u001b[0m\n\u001b[0;32m---> 29\u001b[0;31m         \u001b[0mself\u001b[0m\u001b[0;34m.\u001b[0m\u001b[0mhidden_sum\u001b[0m \u001b[0;34m=\u001b[0m \u001b[0mnp\u001b[0m\u001b[0;34m.\u001b[0m\u001b[0mdot\u001b[0m\u001b[0;34m(\u001b[0m\u001b[0mX\u001b[0m\u001b[0;34m,\u001b[0m \u001b[0mself\u001b[0m\u001b[0;34m.\u001b[0m\u001b[0mweights1\u001b[0m\u001b[0;34m)\u001b[0m\u001b[0;34m\u001b[0m\u001b[0;34m\u001b[0m\u001b[0m\n\u001b[0m\u001b[1;32m     30\u001b[0m \u001b[0;34m\u001b[0m\u001b[0m\n\u001b[1;32m     31\u001b[0m         \u001b[0;31m# Activations of weighted sum\u001b[0m\u001b[0;34m\u001b[0m\u001b[0;34m\u001b[0m\u001b[0;34m\u001b[0m\u001b[0m\n",
            "\u001b[0;32m<__array_function__ internals>\u001b[0m in \u001b[0;36mdot\u001b[0;34m(*args, **kwargs)\u001b[0m\n",
            "\u001b[0;31mKeyboardInterrupt\u001b[0m: "
          ]
        }
      ]
    },
    {
      "cell_type": "code",
      "metadata": {
        "id": "9OS32n74_YpD",
        "colab_type": "code",
        "outputId": "8f7aa674-5a3e-4f2b-a429-ab31b0a0f561",
        "colab": {
          "base_uri": "https://localhost:8080/",
          "height": 34
        }
      },
      "source": [
        "nn.o_error.shape "
      ],
      "execution_count": 38,
      "outputs": [
        {
          "output_type": "execute_result",
          "data": {
            "text/plain": [
              "(500,)"
            ]
          },
          "metadata": {
            "tags": []
          },
          "execution_count": 38
        }
      ]
    },
    {
      "cell_type": "code",
      "metadata": {
        "id": "CCbq6Fa6_YpH",
        "colab_type": "code",
        "outputId": "fd92f1a1-d14b-4d8d-e6b3-72c26be2d3ba",
        "colab": {
          "base_uri": "https://localhost:8080/",
          "height": 34
        }
      },
      "source": [
        "t = nn.o_error * nn.sigmoidPrime(nn.feed_forward(x_test[:500]))\n",
        "t.shape"
      ],
      "execution_count": 39,
      "outputs": [
        {
          "output_type": "execute_result",
          "data": {
            "text/plain": [
              "(500, 500)"
            ]
          },
          "metadata": {
            "tags": []
          },
          "execution_count": 39
        }
      ]
    },
    {
      "cell_type": "markdown",
      "metadata": {
        "colab_type": "text",
        "id": "FwlRJSfBlCvy"
      },
      "source": [
        "## Stretch Goals: \n",
        "\n",
        "- Make MNIST a multiclass problem using cross entropy & soft-max\n",
        "- Implement Cross Validation model evaluation on your MNIST implementation \n",
        "- Research different [Gradient Descent Based Optimizers](https://keras.io/optimizers/)\n",
        " - [Siraj Raval the evolution of gradient descent](https://www.youtube.com/watch?v=nhqo0u1a6fw)\n",
        "- Build a housing price estimation model using a neural network. How does its accuracy compare with the regression models that we fit earlier on in class?"
      ]
    }
  ]
}